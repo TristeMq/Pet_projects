{
  "nbformat": 4,
  "nbformat_minor": 0,
  "metadata": {
    "colab": {
      "provenance": []
    },
    "kernelspec": {
      "name": "python3",
      "display_name": "Python 3"
    },
    "language_info": {
      "name": "python"
    }
  },
  "cells": [
    {
      "cell_type": "markdown",
      "source": [
        "Загрузим данные и необходимые библиотеки"
      ],
      "metadata": {
        "id": "uNIZ8f733Ivg"
      }
    },
    {
      "cell_type": "code",
      "source": [
        "import numpy as np\n",
        "import pandas as pd\n",
        "import matplotlib.pyplot as plt\n",
        "import seaborn as sns \n",
        "import warnings \n",
        "warnings.filterwarnings('ignore')"
      ],
      "metadata": {
        "id": "l88ZhZWZ3Tfi"
      },
      "execution_count": 157,
      "outputs": []
    },
    {
      "cell_type": "code",
      "source": [
        "!gdown --id 1plvZ7poGmKX2YWgEUyuaAkjcb7ZvNVS-"
      ],
      "metadata": {
        "colab": {
          "base_uri": "https://localhost:8080/"
        },
        "id": "C-cE74Vu__PY",
        "outputId": "31ae32d0-f573-42ad-eeb1-4ed2d2678860"
      },
      "execution_count": 158,
      "outputs": [
        {
          "output_type": "stream",
          "name": "stdout",
          "text": [
            "/usr/local/lib/python3.8/dist-packages/gdown/cli.py:127: FutureWarning: Option `--id` was deprecated in version 4.3.1 and will be removed in 5.0. You don't need to pass it anymore to use a file ID.\n",
            "  warnings.warn(\n",
            "Downloading...\n",
            "From: https://drive.google.com/uc?id=1plvZ7poGmKX2YWgEUyuaAkjcb7ZvNVS-\n",
            "To: /content/bank-test-case-ds.csv\n",
            "100% 4.35M/4.35M [00:00<00:00, 208MB/s]\n"
          ]
        }
      ]
    },
    {
      "cell_type": "code",
      "source": [
        "df = pd.read_csv('/content/bank-test-case-ds.csv', sep = \";\")\n",
        "df.head()"
      ],
      "metadata": {
        "colab": {
          "base_uri": "https://localhost:8080/",
          "height": 270
        },
        "id": "Xo1YlT38AeQ9",
        "outputId": "b4451697-ccbd-4c2e-e18d-4ea2da48d0f5"
      },
      "execution_count": 159,
      "outputs": [
        {
          "output_type": "execute_result",
          "data": {
            "text/plain": [
              "   closed_cred_sum  closed_creds  active_cred_sum_overdue  active_cred_sum  \\\n",
              "0         143822.0            22                   104.12        130068.80   \n",
              "1              0.0             0                 38151.93         46230.00   \n",
              "2          51356.0             2                  3000.00          3000.00   \n",
              "3              0.0             0                 22784.19         32103.52   \n",
              "4          12298.0             1                  4942.95          4950.00   \n",
              "\n",
              "   active_cred_day_overdue  active_cred_max_overdue  age  gender  region  \\\n",
              "0                        8                   756.09   31       0      36   \n",
              "1                     1492                 38151.93   51       0      93   \n",
              "2                        8                  3000.00   28       1       3   \n",
              "3                      913                 22784.19   28       0      52   \n",
              "4                     2883                  4942.95   31       0      47   \n",
              "\n",
              "   first_loan  loan_cost_all  first_days_quant  month_income  order_date  \\\n",
              "0     10000.0          10000               196           0.0  2017-07-23   \n",
              "1     10000.0          10000                17       20000.0  2017-07-23   \n",
              "2     10000.0          10000                84           0.0  2017-07-23   \n",
              "3     10000.0          10000                 7           0.0  2017-07-23   \n",
              "4      5000.0           5000                20           0.0  2017-07-23   \n",
              "\n",
              "   cost_all  order_id  client_id  expert  \n",
              "0       0.0    728319     320464       1  \n",
              "1       0.0    728321     320466       1  \n",
              "2       0.0    728323     320467       1  \n",
              "3       0.0    728447     320533       1  \n",
              "4       0.0    728421     298598       1  "
            ],
            "text/html": [
              "\n",
              "  <div id=\"df-551c927c-b884-4fb9-9f6b-62c16aa9d9d2\">\n",
              "    <div class=\"colab-df-container\">\n",
              "      <div>\n",
              "<style scoped>\n",
              "    .dataframe tbody tr th:only-of-type {\n",
              "        vertical-align: middle;\n",
              "    }\n",
              "\n",
              "    .dataframe tbody tr th {\n",
              "        vertical-align: top;\n",
              "    }\n",
              "\n",
              "    .dataframe thead th {\n",
              "        text-align: right;\n",
              "    }\n",
              "</style>\n",
              "<table border=\"1\" class=\"dataframe\">\n",
              "  <thead>\n",
              "    <tr style=\"text-align: right;\">\n",
              "      <th></th>\n",
              "      <th>closed_cred_sum</th>\n",
              "      <th>closed_creds</th>\n",
              "      <th>active_cred_sum_overdue</th>\n",
              "      <th>active_cred_sum</th>\n",
              "      <th>active_cred_day_overdue</th>\n",
              "      <th>active_cred_max_overdue</th>\n",
              "      <th>age</th>\n",
              "      <th>gender</th>\n",
              "      <th>region</th>\n",
              "      <th>first_loan</th>\n",
              "      <th>loan_cost_all</th>\n",
              "      <th>first_days_quant</th>\n",
              "      <th>month_income</th>\n",
              "      <th>order_date</th>\n",
              "      <th>cost_all</th>\n",
              "      <th>order_id</th>\n",
              "      <th>client_id</th>\n",
              "      <th>expert</th>\n",
              "    </tr>\n",
              "  </thead>\n",
              "  <tbody>\n",
              "    <tr>\n",
              "      <th>0</th>\n",
              "      <td>143822.0</td>\n",
              "      <td>22</td>\n",
              "      <td>104.12</td>\n",
              "      <td>130068.80</td>\n",
              "      <td>8</td>\n",
              "      <td>756.09</td>\n",
              "      <td>31</td>\n",
              "      <td>0</td>\n",
              "      <td>36</td>\n",
              "      <td>10000.0</td>\n",
              "      <td>10000</td>\n",
              "      <td>196</td>\n",
              "      <td>0.0</td>\n",
              "      <td>2017-07-23</td>\n",
              "      <td>0.0</td>\n",
              "      <td>728319</td>\n",
              "      <td>320464</td>\n",
              "      <td>1</td>\n",
              "    </tr>\n",
              "    <tr>\n",
              "      <th>1</th>\n",
              "      <td>0.0</td>\n",
              "      <td>0</td>\n",
              "      <td>38151.93</td>\n",
              "      <td>46230.00</td>\n",
              "      <td>1492</td>\n",
              "      <td>38151.93</td>\n",
              "      <td>51</td>\n",
              "      <td>0</td>\n",
              "      <td>93</td>\n",
              "      <td>10000.0</td>\n",
              "      <td>10000</td>\n",
              "      <td>17</td>\n",
              "      <td>20000.0</td>\n",
              "      <td>2017-07-23</td>\n",
              "      <td>0.0</td>\n",
              "      <td>728321</td>\n",
              "      <td>320466</td>\n",
              "      <td>1</td>\n",
              "    </tr>\n",
              "    <tr>\n",
              "      <th>2</th>\n",
              "      <td>51356.0</td>\n",
              "      <td>2</td>\n",
              "      <td>3000.00</td>\n",
              "      <td>3000.00</td>\n",
              "      <td>8</td>\n",
              "      <td>3000.00</td>\n",
              "      <td>28</td>\n",
              "      <td>1</td>\n",
              "      <td>3</td>\n",
              "      <td>10000.0</td>\n",
              "      <td>10000</td>\n",
              "      <td>84</td>\n",
              "      <td>0.0</td>\n",
              "      <td>2017-07-23</td>\n",
              "      <td>0.0</td>\n",
              "      <td>728323</td>\n",
              "      <td>320467</td>\n",
              "      <td>1</td>\n",
              "    </tr>\n",
              "    <tr>\n",
              "      <th>3</th>\n",
              "      <td>0.0</td>\n",
              "      <td>0</td>\n",
              "      <td>22784.19</td>\n",
              "      <td>32103.52</td>\n",
              "      <td>913</td>\n",
              "      <td>22784.19</td>\n",
              "      <td>28</td>\n",
              "      <td>0</td>\n",
              "      <td>52</td>\n",
              "      <td>10000.0</td>\n",
              "      <td>10000</td>\n",
              "      <td>7</td>\n",
              "      <td>0.0</td>\n",
              "      <td>2017-07-23</td>\n",
              "      <td>0.0</td>\n",
              "      <td>728447</td>\n",
              "      <td>320533</td>\n",
              "      <td>1</td>\n",
              "    </tr>\n",
              "    <tr>\n",
              "      <th>4</th>\n",
              "      <td>12298.0</td>\n",
              "      <td>1</td>\n",
              "      <td>4942.95</td>\n",
              "      <td>4950.00</td>\n",
              "      <td>2883</td>\n",
              "      <td>4942.95</td>\n",
              "      <td>31</td>\n",
              "      <td>0</td>\n",
              "      <td>47</td>\n",
              "      <td>5000.0</td>\n",
              "      <td>5000</td>\n",
              "      <td>20</td>\n",
              "      <td>0.0</td>\n",
              "      <td>2017-07-23</td>\n",
              "      <td>0.0</td>\n",
              "      <td>728421</td>\n",
              "      <td>298598</td>\n",
              "      <td>1</td>\n",
              "    </tr>\n",
              "  </tbody>\n",
              "</table>\n",
              "</div>\n",
              "      <button class=\"colab-df-convert\" onclick=\"convertToInteractive('df-551c927c-b884-4fb9-9f6b-62c16aa9d9d2')\"\n",
              "              title=\"Convert this dataframe to an interactive table.\"\n",
              "              style=\"display:none;\">\n",
              "        \n",
              "  <svg xmlns=\"http://www.w3.org/2000/svg\" height=\"24px\"viewBox=\"0 0 24 24\"\n",
              "       width=\"24px\">\n",
              "    <path d=\"M0 0h24v24H0V0z\" fill=\"none\"/>\n",
              "    <path d=\"M18.56 5.44l.94 2.06.94-2.06 2.06-.94-2.06-.94-.94-2.06-.94 2.06-2.06.94zm-11 1L8.5 8.5l.94-2.06 2.06-.94-2.06-.94L8.5 2.5l-.94 2.06-2.06.94zm10 10l.94 2.06.94-2.06 2.06-.94-2.06-.94-.94-2.06-.94 2.06-2.06.94z\"/><path d=\"M17.41 7.96l-1.37-1.37c-.4-.4-.92-.59-1.43-.59-.52 0-1.04.2-1.43.59L10.3 9.45l-7.72 7.72c-.78.78-.78 2.05 0 2.83L4 21.41c.39.39.9.59 1.41.59.51 0 1.02-.2 1.41-.59l7.78-7.78 2.81-2.81c.8-.78.8-2.07 0-2.86zM5.41 20L4 18.59l7.72-7.72 1.47 1.35L5.41 20z\"/>\n",
              "  </svg>\n",
              "      </button>\n",
              "      \n",
              "  <style>\n",
              "    .colab-df-container {\n",
              "      display:flex;\n",
              "      flex-wrap:wrap;\n",
              "      gap: 12px;\n",
              "    }\n",
              "\n",
              "    .colab-df-convert {\n",
              "      background-color: #E8F0FE;\n",
              "      border: none;\n",
              "      border-radius: 50%;\n",
              "      cursor: pointer;\n",
              "      display: none;\n",
              "      fill: #1967D2;\n",
              "      height: 32px;\n",
              "      padding: 0 0 0 0;\n",
              "      width: 32px;\n",
              "    }\n",
              "\n",
              "    .colab-df-convert:hover {\n",
              "      background-color: #E2EBFA;\n",
              "      box-shadow: 0px 1px 2px rgba(60, 64, 67, 0.3), 0px 1px 3px 1px rgba(60, 64, 67, 0.15);\n",
              "      fill: #174EA6;\n",
              "    }\n",
              "\n",
              "    [theme=dark] .colab-df-convert {\n",
              "      background-color: #3B4455;\n",
              "      fill: #D2E3FC;\n",
              "    }\n",
              "\n",
              "    [theme=dark] .colab-df-convert:hover {\n",
              "      background-color: #434B5C;\n",
              "      box-shadow: 0px 1px 3px 1px rgba(0, 0, 0, 0.15);\n",
              "      filter: drop-shadow(0px 1px 2px rgba(0, 0, 0, 0.3));\n",
              "      fill: #FFFFFF;\n",
              "    }\n",
              "  </style>\n",
              "\n",
              "      <script>\n",
              "        const buttonEl =\n",
              "          document.querySelector('#df-551c927c-b884-4fb9-9f6b-62c16aa9d9d2 button.colab-df-convert');\n",
              "        buttonEl.style.display =\n",
              "          google.colab.kernel.accessAllowed ? 'block' : 'none';\n",
              "\n",
              "        async function convertToInteractive(key) {\n",
              "          const element = document.querySelector('#df-551c927c-b884-4fb9-9f6b-62c16aa9d9d2');\n",
              "          const dataTable =\n",
              "            await google.colab.kernel.invokeFunction('convertToInteractive',\n",
              "                                                     [key], {});\n",
              "          if (!dataTable) return;\n",
              "\n",
              "          const docLinkHtml = 'Like what you see? Visit the ' +\n",
              "            '<a target=\"_blank\" href=https://colab.research.google.com/notebooks/data_table.ipynb>data table notebook</a>'\n",
              "            + ' to learn more about interactive tables.';\n",
              "          element.innerHTML = '';\n",
              "          dataTable['output_type'] = 'display_data';\n",
              "          await google.colab.output.renderOutput(dataTable, element);\n",
              "          const docLink = document.createElement('div');\n",
              "          docLink.innerHTML = docLinkHtml;\n",
              "          element.appendChild(docLink);\n",
              "        }\n",
              "      </script>\n",
              "    </div>\n",
              "  </div>\n",
              "  "
            ]
          },
          "metadata": {},
          "execution_count": 159
        }
      ]
    },
    {
      "cell_type": "markdown",
      "source": [
        "Набор данных, содержащий следующие переменные\n",
        "Переменные, характеризующие кредитную историю клиента\n",
        "closed_cred_sum - сумма, которую клиент выплатил по ранее взятым и закрытым\n",
        "кредитам  \n",
        "closed_creds - количество закрытых кредитов  \n",
        "active_cred_sum_overdue - суммарная задолженность по активным кредитам  \n",
        "active_cred_sum - сумма всех активных кредитов  \n",
        "active_cred_day_overdue - суммарная просрочка в днях по всем активным кредитам  \n",
        "active_cred_max_overdue - максимальная сумма просроченной задолженности по\n",
        "активным кредитам  \n",
        "Переменные характеризующие клиента  \n",
        "age - возраст  \n",
        "gender - пол  \n",
        "region - регион  \n",
        "month_income - ежемесячный доход  \n",
        "Переменные, характеризующие кредит, по которому нужно сделать\n",
        "прогноз  \n",
        "first_loan - сумма, которую клиент хочет получить в кредит (из заявки)  \n",
        "first_days_quant - срок, на которую клиент хочет взять кредит  \n",
        "loan_cost_all - одобренная клиенту сумма кредита  \n",
        "order_date - дата подачи заявки на получение кредита  \n",
        "cost_all - сумма всех выплат по одобренному кредиту  \n",
        "order_id - id заявки  \n",
        "client_id - id клиента  \n",
        "Целевая переменная:  \n",
        "expert - решение, которое принято по заявке (0 - одобрено, 1 - отклонено) "
      ],
      "metadata": {
        "id": "SiDYIzNaB27r"
      }
    },
    {
      "cell_type": "markdown",
      "source": [
        "# EDA "
      ],
      "metadata": {
        "id": "GTMTbQvbL_9P"
      }
    },
    {
      "cell_type": "code",
      "source": [
        "df.dtypes\n"
      ],
      "metadata": {
        "id": "oKz5BFNvAtot",
        "colab": {
          "base_uri": "https://localhost:8080/"
        },
        "outputId": "1451380a-0e00-4fce-db32-efd57002a8bd"
      },
      "execution_count": 160,
      "outputs": [
        {
          "output_type": "execute_result",
          "data": {
            "text/plain": [
              "closed_cred_sum            float64\n",
              "closed_creds                 int64\n",
              "active_cred_sum_overdue    float64\n",
              "active_cred_sum            float64\n",
              "active_cred_day_overdue      int64\n",
              "active_cred_max_overdue    float64\n",
              "age                          int64\n",
              "gender                       int64\n",
              "region                       int64\n",
              "first_loan                 float64\n",
              "loan_cost_all                int64\n",
              "first_days_quant             int64\n",
              "month_income               float64\n",
              "order_date                  object\n",
              "cost_all                   float64\n",
              "order_id                     int64\n",
              "client_id                    int64\n",
              "expert                       int64\n",
              "dtype: object"
            ]
          },
          "metadata": {},
          "execution_count": 160
        }
      ]
    },
    {
      "cell_type": "code",
      "source": [
        "df['order_date'] = pd.to_datetime(df[\"order_date\"])\n",
        "df[\"order_date\"].dtypes"
      ],
      "metadata": {
        "colab": {
          "base_uri": "https://localhost:8080/"
        },
        "id": "tl1sQXBGMHi1",
        "outputId": "ce9ff21c-8f52-46ef-c9a0-9c4a26e97627"
      },
      "execution_count": 161,
      "outputs": [
        {
          "output_type": "execute_result",
          "data": {
            "text/plain": [
              "dtype('<M8[ns]')"
            ]
          },
          "metadata": {},
          "execution_count": 161
        }
      ]
    },
    {
      "cell_type": "code",
      "source": [
        "df[['gender','region']] = df[['gender','region']].astype(str)"
      ],
      "metadata": {
        "id": "IYazMq3Dc4U9"
      },
      "execution_count": 162,
      "outputs": []
    },
    {
      "cell_type": "code",
      "source": [
        "df.dtypes"
      ],
      "metadata": {
        "colab": {
          "base_uri": "https://localhost:8080/"
        },
        "id": "2yW_uH_pldiE",
        "outputId": "eba719ee-30e9-403b-bc17-a7a0d74314c6"
      },
      "execution_count": 163,
      "outputs": [
        {
          "output_type": "execute_result",
          "data": {
            "text/plain": [
              "closed_cred_sum                   float64\n",
              "closed_creds                        int64\n",
              "active_cred_sum_overdue           float64\n",
              "active_cred_sum                   float64\n",
              "active_cred_day_overdue             int64\n",
              "active_cred_max_overdue           float64\n",
              "age                                 int64\n",
              "gender                             object\n",
              "region                             object\n",
              "first_loan                        float64\n",
              "loan_cost_all                       int64\n",
              "first_days_quant                    int64\n",
              "month_income                      float64\n",
              "order_date                 datetime64[ns]\n",
              "cost_all                          float64\n",
              "order_id                            int64\n",
              "client_id                           int64\n",
              "expert                              int64\n",
              "dtype: object"
            ]
          },
          "metadata": {},
          "execution_count": 163
        }
      ]
    },
    {
      "cell_type": "markdown",
      "source": [
        "Посмотрим на нашу целевую переменную - expert"
      ],
      "metadata": {
        "id": "eiodewp2M1gL"
      }
    },
    {
      "cell_type": "code",
      "source": [
        "df[\"expert\"].value_counts(normalize = True)"
      ],
      "metadata": {
        "colab": {
          "base_uri": "https://localhost:8080/"
        },
        "id": "6na0Po_UM0Lr",
        "outputId": "cb656546-26b6-4de0-80fe-84ec71376b5d"
      },
      "execution_count": 164,
      "outputs": [
        {
          "output_type": "execute_result",
          "data": {
            "text/plain": [
              "1    0.749265\n",
              "0    0.250735\n",
              "Name: expert, dtype: float64"
            ]
          },
          "metadata": {},
          "execution_count": 164
        }
      ]
    },
    {
      "cell_type": "markdown",
      "source": [
        "Как видим, выборка не очень сбалансирована, что довольно важно в нашей задаче классификации"
      ],
      "metadata": {
        "id": "3RPhypd3NE8I"
      }
    },
    {
      "cell_type": "markdown",
      "source": [
        "Проверим отсутствующие значения"
      ],
      "metadata": {
        "id": "lU6124YNO7P5"
      }
    },
    {
      "cell_type": "code",
      "source": [
        "df.isna().mean()"
      ],
      "metadata": {
        "colab": {
          "base_uri": "https://localhost:8080/"
        },
        "id": "aDkmQPYCO1cG",
        "outputId": "b33bbaeb-a13d-487e-b0dc-70045ae15e86"
      },
      "execution_count": 165,
      "outputs": [
        {
          "output_type": "execute_result",
          "data": {
            "text/plain": [
              "closed_cred_sum            0.00000\n",
              "closed_creds               0.00000\n",
              "active_cred_sum_overdue    0.00000\n",
              "active_cred_sum            0.00000\n",
              "active_cred_day_overdue    0.00000\n",
              "active_cred_max_overdue    0.00000\n",
              "age                        0.00000\n",
              "gender                     0.00000\n",
              "region                     0.00000\n",
              "first_loan                 0.00038\n",
              "loan_cost_all              0.00000\n",
              "first_days_quant           0.00000\n",
              "month_income               0.00000\n",
              "order_date                 0.00000\n",
              "cost_all                   0.00000\n",
              "order_id                   0.00000\n",
              "client_id                  0.00000\n",
              "expert                     0.00000\n",
              "dtype: float64"
            ]
          },
          "metadata": {},
          "execution_count": 165
        }
      ]
    },
    {
      "cell_type": "markdown",
      "source": [
        "Как видим, небольшое количество пропущенных значений есть только у параметра first_loan."
      ],
      "metadata": {
        "id": "m_IugxDLPHpx"
      }
    },
    {
      "cell_type": "code",
      "source": [
        "df['order_date'] = df['order_date'].apply(pd.Timestamp.toordinal)\n",
        "df.fillna(0,inplace = True)\n"
      ],
      "metadata": {
        "id": "LOv3Qw3CZpnY"
      },
      "execution_count": 166,
      "outputs": []
    },
    {
      "cell_type": "code",
      "source": [
        "df.isna().mean()"
      ],
      "metadata": {
        "colab": {
          "base_uri": "https://localhost:8080/"
        },
        "id": "XBB9M5V3J0bi",
        "outputId": "ea8e6498-76cc-42a7-eacc-37236cfadc0f"
      },
      "execution_count": 167,
      "outputs": [
        {
          "output_type": "execute_result",
          "data": {
            "text/plain": [
              "closed_cred_sum            0.0\n",
              "closed_creds               0.0\n",
              "active_cred_sum_overdue    0.0\n",
              "active_cred_sum            0.0\n",
              "active_cred_day_overdue    0.0\n",
              "active_cred_max_overdue    0.0\n",
              "age                        0.0\n",
              "gender                     0.0\n",
              "region                     0.0\n",
              "first_loan                 0.0\n",
              "loan_cost_all              0.0\n",
              "first_days_quant           0.0\n",
              "month_income               0.0\n",
              "order_date                 0.0\n",
              "cost_all                   0.0\n",
              "order_id                   0.0\n",
              "client_id                  0.0\n",
              "expert                     0.0\n",
              "dtype: float64"
            ]
          },
          "metadata": {},
          "execution_count": 167
        }
      ]
    },
    {
      "cell_type": "code",
      "source": [
        "df1 = df.copy()"
      ],
      "metadata": {
        "id": "3BT0umpIe4bj"
      },
      "execution_count": 168,
      "outputs": []
    },
    {
      "cell_type": "code",
      "source": [
        "#np.any(np.isna(df))"
      ],
      "metadata": {
        "id": "8Z77nlAKfHaP"
      },
      "execution_count": 169,
      "outputs": []
    },
    {
      "cell_type": "code",
      "source": [
        "sns.histplot(df[\"region\"])"
      ],
      "metadata": {
        "colab": {
          "base_uri": "https://localhost:8080/",
          "height": 296
        },
        "id": "K53NEdpWQtx1",
        "outputId": "75690811-e69f-4a15-a1a0-a18782059297"
      },
      "execution_count": 170,
      "outputs": [
        {
          "output_type": "execute_result",
          "data": {
            "text/plain": [
              "<matplotlib.axes._subplots.AxesSubplot at 0x7f4b01871ca0>"
            ]
          },
          "metadata": {},
          "execution_count": 170
        },
        {
          "output_type": "display_data",
          "data": {
            "text/plain": [
              "<Figure size 432x288 with 1 Axes>"
            ],
            "image/png": "[encoded data removed]"
          },
          "metadata": {
            "needs_background": "light"
          }
        }
      ]
    },
    {
      "cell_type": "markdown",
      "source": [
        "gender и region являются категориальными признаками, причём видно, что среди параметра region преобладает параметр 0 (предположительно отсутствие региона)"
      ],
      "metadata": {
        "id": "rln8C0KTRGRl"
      }
    },
    {
      "cell_type": "code",
      "source": [
        "categorical = [\"gender\",\"region\"]"
      ],
      "metadata": {
        "id": "vt_PidelRa3N"
      },
      "execution_count": 171,
      "outputs": []
    },
    {
      "cell_type": "code",
      "source": [
        "df[\"cost_all\"].value_counts(normalize = True)"
      ],
      "metadata": {
        "colab": {
          "base_uri": "https://localhost:8080/"
        },
        "id": "olRAjwtpSxTo",
        "outputId": "7672190c-ab81-49d6-ad37-fa8b4f47af8a"
      },
      "execution_count": 172,
      "outputs": [
        {
          "output_type": "execute_result",
          "data": {
            "text/plain": [
              "0.0        0.815124\n",
              "1501.4     0.008520\n",
              "2872.0     0.006580\n",
              "4308.0     0.004860\n",
              "2305.2     0.004760\n",
              "             ...   \n",
              "12666.5    0.000020\n",
              "9273.0     0.000020\n",
              "2123.2     0.000020\n",
              "10794.0    0.000020\n",
              "18907.9    0.000020\n",
              "Name: cost_all, Length: 2561, dtype: float64"
            ]
          },
          "metadata": {},
          "execution_count": 172
        }
      ]
    },
    {
      "cell_type": "markdown",
      "source": [
        "переменная cost_all  - это сумма выплат по уже одобренному кредиту, в нашем случае она бесполезна, аналогично с loan_cost_all"
      ],
      "metadata": {
        "id": "VZL3qDVUmxz9"
      }
    },
    {
      "cell_type": "markdown",
      "source": [
        "Сформируем список признаков для обучения модели."
      ],
      "metadata": {
        "id": "nRhun4GoRqLj"
      }
    },
    {
      "cell_type": "code",
      "source": [
        "features =  ['closed_cred_sum', 'closed_creds', 'active_cred_sum_overdue',\n",
        "       'active_cred_sum', 'active_cred_day_overdue', 'active_cred_max_overdue',\n",
        "       'age',  'first_loan',\n",
        "       'first_days_quant', 'month_income',\n",
        "        'client_id',\n",
        "       'gender', 'region',\n",
        "       ]"
      ],
      "metadata": {
        "id": "czLLOO2xSAV4"
      },
      "execution_count": 173,
      "outputs": []
    },
    {
      "cell_type": "markdown",
      "source": [
        "Из списка признаков также был исключён order_date, поскольку время обращения слабо связанo с решением по кредиту, в то же время client_id является существенным признаком ( во многом потому что представляет собой число, которое может показывать, как долго пользователь является клиентом компании и потому влиять на решение о предоставлении кредита)"
      ],
      "metadata": {
        "id": "s6nbPfyVSJHE"
      }
    },
    {
      "cell_type": "code",
      "source": [
        "df['client_cat'] = pd.qcut(df['client_id'],5,duplicates='drop')"
      ],
      "metadata": {
        "id": "2upaFfuj0_8m"
      },
      "execution_count": 174,
      "outputs": []
    },
    {
      "cell_type": "code",
      "source": [
        "df.groupby('client_cat')['expert'].agg(['mean','count'])"
      ],
      "metadata": {
        "colab": {
          "base_uri": "https://localhost:8080/",
          "height": 238
        },
        "id": "QCWh84Ej1V8Q",
        "outputId": "f44c761b-a1b5-4964-f2e9-3c34287a2b23"
      },
      "execution_count": 175,
      "outputs": [
        {
          "output_type": "execute_result",
          "data": {
            "text/plain": [
              "                          mean  count\n",
              "client_cat                           \n",
              "(108.999, 274066.0]   0.455954  10001\n",
              "(274066.0, 310588.0]  0.716700  10000\n",
              "(310588.0, 322138.0]  0.816000  10000\n",
              "(322138.0, 332110.0]  0.869500  10000\n",
              "(332110.0, 393528.0]  0.888200  10000"
            ],
            "text/html": [
              "\n",
              "  <div id=\"df-39fbf065-5964-43d1-8c3d-a5140fdd14d6\">\n",
              "    <div class=\"colab-df-container\">\n",
              "      <div>\n",
              "<style scoped>\n",
              "    .dataframe tbody tr th:only-of-type {\n",
              "        vertical-align: middle;\n",
              "    }\n",
              "\n",
              "    .dataframe tbody tr th {\n",
              "        vertical-align: top;\n",
              "    }\n",
              "\n",
              "    .dataframe thead th {\n",
              "        text-align: right;\n",
              "    }\n",
              "</style>\n",
              "<table border=\"1\" class=\"dataframe\">\n",
              "  <thead>\n",
              "    <tr style=\"text-align: right;\">\n",
              "      <th></th>\n",
              "      <th>mean</th>\n",
              "      <th>count</th>\n",
              "    </tr>\n",
              "    <tr>\n",
              "      <th>client_cat</th>\n",
              "      <th></th>\n",
              "      <th></th>\n",
              "    </tr>\n",
              "  </thead>\n",
              "  <tbody>\n",
              "    <tr>\n",
              "      <th>(108.999, 274066.0]</th>\n",
              "      <td>0.455954</td>\n",
              "      <td>10001</td>\n",
              "    </tr>\n",
              "    <tr>\n",
              "      <th>(274066.0, 310588.0]</th>\n",
              "      <td>0.716700</td>\n",
              "      <td>10000</td>\n",
              "    </tr>\n",
              "    <tr>\n",
              "      <th>(310588.0, 322138.0]</th>\n",
              "      <td>0.816000</td>\n",
              "      <td>10000</td>\n",
              "    </tr>\n",
              "    <tr>\n",
              "      <th>(322138.0, 332110.0]</th>\n",
              "      <td>0.869500</td>\n",
              "      <td>10000</td>\n",
              "    </tr>\n",
              "    <tr>\n",
              "      <th>(332110.0, 393528.0]</th>\n",
              "      <td>0.888200</td>\n",
              "      <td>10000</td>\n",
              "    </tr>\n",
              "  </tbody>\n",
              "</table>\n",
              "</div>\n",
              "      <button class=\"colab-df-convert\" onclick=\"convertToInteractive('df-39fbf065-5964-43d1-8c3d-a5140fdd14d6')\"\n",
              "              title=\"Convert this dataframe to an interactive table.\"\n",
              "              style=\"display:none;\">\n",
              "        \n",
              "  <svg xmlns=\"http://www.w3.org/2000/svg\" height=\"24px\"viewBox=\"0 0 24 24\"\n",
              "       width=\"24px\">\n",
              "    <path d=\"M0 0h24v24H0V0z\" fill=\"none\"/>\n",
              "    <path d=\"M18.56 5.44l.94 2.06.94-2.06 2.06-.94-2.06-.94-.94-2.06-.94 2.06-2.06.94zm-11 1L8.5 8.5l.94-2.06 2.06-.94-2.06-.94L8.5 2.5l-.94 2.06-2.06.94zm10 10l.94 2.06.94-2.06 2.06-.94-2.06-.94-.94-2.06-.94 2.06-2.06.94z\"/><path d=\"M17.41 7.96l-1.37-1.37c-.4-.4-.92-.59-1.43-.59-.52 0-1.04.2-1.43.59L10.3 9.45l-7.72 7.72c-.78.78-.78 2.05 0 2.83L4 21.41c.39.39.9.59 1.41.59.51 0 1.02-.2 1.41-.59l7.78-7.78 2.81-2.81c.8-.78.8-2.07 0-2.86zM5.41 20L4 18.59l7.72-7.72 1.47 1.35L5.41 20z\"/>\n",
              "  </svg>\n",
              "      </button>\n",
              "      \n",
              "  <style>\n",
              "    .colab-df-container {\n",
              "      display:flex;\n",
              "      flex-wrap:wrap;\n",
              "      gap: 12px;\n",
              "    }\n",
              "\n",
              "    .colab-df-convert {\n",
              "      background-color: #E8F0FE;\n",
              "      border: none;\n",
              "      border-radius: 50%;\n",
              "      cursor: pointer;\n",
              "      display: none;\n",
              "      fill: #1967D2;\n",
              "      height: 32px;\n",
              "      padding: 0 0 0 0;\n",
              "      width: 32px;\n",
              "    }\n",
              "\n",
              "    .colab-df-convert:hover {\n",
              "      background-color: #E2EBFA;\n",
              "      box-shadow: 0px 1px 2px rgba(60, 64, 67, 0.3), 0px 1px 3px 1px rgba(60, 64, 67, 0.15);\n",
              "      fill: #174EA6;\n",
              "    }\n",
              "\n",
              "    [theme=dark] .colab-df-convert {\n",
              "      background-color: #3B4455;\n",
              "      fill: #D2E3FC;\n",
              "    }\n",
              "\n",
              "    [theme=dark] .colab-df-convert:hover {\n",
              "      background-color: #434B5C;\n",
              "      box-shadow: 0px 1px 3px 1px rgba(0, 0, 0, 0.15);\n",
              "      filter: drop-shadow(0px 1px 2px rgba(0, 0, 0, 0.3));\n",
              "      fill: #FFFFFF;\n",
              "    }\n",
              "  </style>\n",
              "\n",
              "      <script>\n",
              "        const buttonEl =\n",
              "          document.querySelector('#df-39fbf065-5964-43d1-8c3d-a5140fdd14d6 button.colab-df-convert');\n",
              "        buttonEl.style.display =\n",
              "          google.colab.kernel.accessAllowed ? 'block' : 'none';\n",
              "\n",
              "        async function convertToInteractive(key) {\n",
              "          const element = document.querySelector('#df-39fbf065-5964-43d1-8c3d-a5140fdd14d6');\n",
              "          const dataTable =\n",
              "            await google.colab.kernel.invokeFunction('convertToInteractive',\n",
              "                                                     [key], {});\n",
              "          if (!dataTable) return;\n",
              "\n",
              "          const docLinkHtml = 'Like what you see? Visit the ' +\n",
              "            '<a target=\"_blank\" href=https://colab.research.google.com/notebooks/data_table.ipynb>data table notebook</a>'\n",
              "            + ' to learn more about interactive tables.';\n",
              "          element.innerHTML = '';\n",
              "          dataTable['output_type'] = 'display_data';\n",
              "          await google.colab.output.renderOutput(dataTable, element);\n",
              "          const docLink = document.createElement('div');\n",
              "          docLink.innerHTML = docLinkHtml;\n",
              "          element.appendChild(docLink);\n",
              "        }\n",
              "      </script>\n",
              "    </div>\n",
              "  </div>\n",
              "  "
            ]
          },
          "metadata": {},
          "execution_count": 175
        }
      ]
    },
    {
      "cell_type": "markdown",
      "source": [
        "Как и говорилось выше, наблюдается тенденция, по которой чем старее клиент, тем меньше процент отказа."
      ],
      "metadata": {
        "id": "_6tlNO0D0xNa"
      }
    },
    {
      "cell_type": "code",
      "source": [
        "cor_mat = df.corr()"
      ],
      "metadata": {
        "id": "r1rojR6LhI2w"
      },
      "execution_count": 176,
      "outputs": []
    },
    {
      "cell_type": "code",
      "source": [
        "sns.heatmap(cor_mat)"
      ],
      "metadata": {
        "colab": {
          "base_uri": "https://localhost:8080/",
          "height": 406
        },
        "id": "UVXotpgEhSym",
        "outputId": "e68d7e88-016c-48ad-d68c-1c713890aa58"
      },
      "execution_count": 177,
      "outputs": [
        {
          "output_type": "execute_result",
          "data": {
            "text/plain": [
              "<matplotlib.axes._subplots.AxesSubplot at 0x7f4b036e1280>"
            ]
          },
          "metadata": {},
          "execution_count": 177
        },
        {
          "output_type": "display_data",
          "data": {
            "text/plain": [
              "<Figure size 432x288 with 2 Axes>"
            ],
            "image/png": "[encoded data removed]"
          },
          "metadata": {
            "needs_background": "light"
          }
        }
      ]
    },
    {
      "cell_type": "code",
      "source": [
        "df[['first_loan','loan_cost_all']].describe()"
      ],
      "metadata": {
        "colab": {
          "base_uri": "https://localhost:8080/",
          "height": 300
        },
        "id": "dSV1-LryjFRW",
        "outputId": "7cac05a8-a92d-495a-a04a-f1d85e18b1ee"
      },
      "execution_count": 178,
      "outputs": [
        {
          "output_type": "execute_result",
          "data": {
            "text/plain": [
              "          first_loan  loan_cost_all\n",
              "count   50001.000000   50001.000000\n",
              "mean     7748.737025    6703.681926\n",
              "std      5311.921767    4610.529844\n",
              "min         0.000000       0.000000\n",
              "25%      5000.000000    3000.000000\n",
              "50%      7000.000000    7000.000000\n",
              "75%     10000.000000   10000.000000\n",
              "max    100000.000000  100000.000000"
            ],
            "text/html": [
              "\n",
              "  <div id=\"df-588f0609-5073-47e7-a825-77694186fb07\">\n",
              "    <div class=\"colab-df-container\">\n",
              "      <div>\n",
              "<style scoped>\n",
              "    .dataframe tbody tr th:only-of-type {\n",
              "        vertical-align: middle;\n",
              "    }\n",
              "\n",
              "    .dataframe tbody tr th {\n",
              "        vertical-align: top;\n",
              "    }\n",
              "\n",
              "    .dataframe thead th {\n",
              "        text-align: right;\n",
              "    }\n",
              "</style>\n",
              "<table border=\"1\" class=\"dataframe\">\n",
              "  <thead>\n",
              "    <tr style=\"text-align: right;\">\n",
              "      <th></th>\n",
              "      <th>first_loan</th>\n",
              "      <th>loan_cost_all</th>\n",
              "    </tr>\n",
              "  </thead>\n",
              "  <tbody>\n",
              "    <tr>\n",
              "      <th>count</th>\n",
              "      <td>50001.000000</td>\n",
              "      <td>50001.000000</td>\n",
              "    </tr>\n",
              "    <tr>\n",
              "      <th>mean</th>\n",
              "      <td>7748.737025</td>\n",
              "      <td>6703.681926</td>\n",
              "    </tr>\n",
              "    <tr>\n",
              "      <th>std</th>\n",
              "      <td>5311.921767</td>\n",
              "      <td>4610.529844</td>\n",
              "    </tr>\n",
              "    <tr>\n",
              "      <th>min</th>\n",
              "      <td>0.000000</td>\n",
              "      <td>0.000000</td>\n",
              "    </tr>\n",
              "    <tr>\n",
              "      <th>25%</th>\n",
              "      <td>5000.000000</td>\n",
              "      <td>3000.000000</td>\n",
              "    </tr>\n",
              "    <tr>\n",
              "      <th>50%</th>\n",
              "      <td>7000.000000</td>\n",
              "      <td>7000.000000</td>\n",
              "    </tr>\n",
              "    <tr>\n",
              "      <th>75%</th>\n",
              "      <td>10000.000000</td>\n",
              "      <td>10000.000000</td>\n",
              "    </tr>\n",
              "    <tr>\n",
              "      <th>max</th>\n",
              "      <td>100000.000000</td>\n",
              "      <td>100000.000000</td>\n",
              "    </tr>\n",
              "  </tbody>\n",
              "</table>\n",
              "</div>\n",
              "      <button class=\"colab-df-convert\" onclick=\"convertToInteractive('df-588f0609-5073-47e7-a825-77694186fb07')\"\n",
              "              title=\"Convert this dataframe to an interactive table.\"\n",
              "              style=\"display:none;\">\n",
              "        \n",
              "  <svg xmlns=\"http://www.w3.org/2000/svg\" height=\"24px\"viewBox=\"0 0 24 24\"\n",
              "       width=\"24px\">\n",
              "    <path d=\"M0 0h24v24H0V0z\" fill=\"none\"/>\n",
              "    <path d=\"M18.56 5.44l.94 2.06.94-2.06 2.06-.94-2.06-.94-.94-2.06-.94 2.06-2.06.94zm-11 1L8.5 8.5l.94-2.06 2.06-.94-2.06-.94L8.5 2.5l-.94 2.06-2.06.94zm10 10l.94 2.06.94-2.06 2.06-.94-2.06-.94-.94-2.06-.94 2.06-2.06.94z\"/><path d=\"M17.41 7.96l-1.37-1.37c-.4-.4-.92-.59-1.43-.59-.52 0-1.04.2-1.43.59L10.3 9.45l-7.72 7.72c-.78.78-.78 2.05 0 2.83L4 21.41c.39.39.9.59 1.41.59.51 0 1.02-.2 1.41-.59l7.78-7.78 2.81-2.81c.8-.78.8-2.07 0-2.86zM5.41 20L4 18.59l7.72-7.72 1.47 1.35L5.41 20z\"/>\n",
              "  </svg>\n",
              "      </button>\n",
              "      \n",
              "  <style>\n",
              "    .colab-df-container {\n",
              "      display:flex;\n",
              "      flex-wrap:wrap;\n",
              "      gap: 12px;\n",
              "    }\n",
              "\n",
              "    .colab-df-convert {\n",
              "      background-color: #E8F0FE;\n",
              "      border: none;\n",
              "      border-radius: 50%;\n",
              "      cursor: pointer;\n",
              "      display: none;\n",
              "      fill: #1967D2;\n",
              "      height: 32px;\n",
              "      padding: 0 0 0 0;\n",
              "      width: 32px;\n",
              "    }\n",
              "\n",
              "    .colab-df-convert:hover {\n",
              "      background-color: #E2EBFA;\n",
              "      box-shadow: 0px 1px 2px rgba(60, 64, 67, 0.3), 0px 1px 3px 1px rgba(60, 64, 67, 0.15);\n",
              "      fill: #174EA6;\n",
              "    }\n",
              "\n",
              "    [theme=dark] .colab-df-convert {\n",
              "      background-color: #3B4455;\n",
              "      fill: #D2E3FC;\n",
              "    }\n",
              "\n",
              "    [theme=dark] .colab-df-convert:hover {\n",
              "      background-color: #434B5C;\n",
              "      box-shadow: 0px 1px 3px 1px rgba(0, 0, 0, 0.15);\n",
              "      filter: drop-shadow(0px 1px 2px rgba(0, 0, 0, 0.3));\n",
              "      fill: #FFFFFF;\n",
              "    }\n",
              "  </style>\n",
              "\n",
              "      <script>\n",
              "        const buttonEl =\n",
              "          document.querySelector('#df-588f0609-5073-47e7-a825-77694186fb07 button.colab-df-convert');\n",
              "        buttonEl.style.display =\n",
              "          google.colab.kernel.accessAllowed ? 'block' : 'none';\n",
              "\n",
              "        async function convertToInteractive(key) {\n",
              "          const element = document.querySelector('#df-588f0609-5073-47e7-a825-77694186fb07');\n",
              "          const dataTable =\n",
              "            await google.colab.kernel.invokeFunction('convertToInteractive',\n",
              "                                                     [key], {});\n",
              "          if (!dataTable) return;\n",
              "\n",
              "          const docLinkHtml = 'Like what you see? Visit the ' +\n",
              "            '<a target=\"_blank\" href=https://colab.research.google.com/notebooks/data_table.ipynb>data table notebook</a>'\n",
              "            + ' to learn more about interactive tables.';\n",
              "          element.innerHTML = '';\n",
              "          dataTable['output_type'] = 'display_data';\n",
              "          await google.colab.output.renderOutput(dataTable, element);\n",
              "          const docLink = document.createElement('div');\n",
              "          docLink.innerHTML = docLinkHtml;\n",
              "          element.appendChild(docLink);\n",
              "        }\n",
              "      </script>\n",
              "    </div>\n",
              "  </div>\n",
              "  "
            ]
          },
          "metadata": {},
          "execution_count": 178
        }
      ]
    },
    {
      "cell_type": "markdown",
      "source": [
        "Посмотрим, как зависит выдача кредита от срока, на который этот кредит берётся."
      ],
      "metadata": {
        "id": "RHDwZCqrsybl"
      }
    },
    {
      "cell_type": "code",
      "source": [
        "df['term_cat'] = pd.qcut(df['first_days_quant'],5)\n",
        "df.groupby('term_cat')['expert'].agg(['mean','count'])"
      ],
      "metadata": {
        "colab": {
          "base_uri": "https://localhost:8080/",
          "height": 238
        },
        "id": "eL8AIJiBsh_9",
        "outputId": "d080d517-b4c7-4ebe-efc4-67a0063a63a9"
      },
      "execution_count": 179,
      "outputs": [
        {
          "output_type": "execute_result",
          "data": {
            "text/plain": [
              "                    mean  count\n",
              "term_cat                       \n",
              "(-0.001, 10.0]  0.775424  12606\n",
              "(10.0, 14.0]    0.782866   7447\n",
              "(14.0, 20.0]    0.654801  19131\n",
              "(20.0, 21.0]    0.983274   3647\n",
              "(21.0, 336.0]   0.801395   7170"
            ],
            "text/html": [
              "\n",
              "  <div id=\"df-d10b9c6b-aeaa-4687-8eb0-1d1d04d87e0b\">\n",
              "    <div class=\"colab-df-container\">\n",
              "      <div>\n",
              "<style scoped>\n",
              "    .dataframe tbody tr th:only-of-type {\n",
              "        vertical-align: middle;\n",
              "    }\n",
              "\n",
              "    .dataframe tbody tr th {\n",
              "        vertical-align: top;\n",
              "    }\n",
              "\n",
              "    .dataframe thead th {\n",
              "        text-align: right;\n",
              "    }\n",
              "</style>\n",
              "<table border=\"1\" class=\"dataframe\">\n",
              "  <thead>\n",
              "    <tr style=\"text-align: right;\">\n",
              "      <th></th>\n",
              "      <th>mean</th>\n",
              "      <th>count</th>\n",
              "    </tr>\n",
              "    <tr>\n",
              "      <th>term_cat</th>\n",
              "      <th></th>\n",
              "      <th></th>\n",
              "    </tr>\n",
              "  </thead>\n",
              "  <tbody>\n",
              "    <tr>\n",
              "      <th>(-0.001, 10.0]</th>\n",
              "      <td>0.775424</td>\n",
              "      <td>12606</td>\n",
              "    </tr>\n",
              "    <tr>\n",
              "      <th>(10.0, 14.0]</th>\n",
              "      <td>0.782866</td>\n",
              "      <td>7447</td>\n",
              "    </tr>\n",
              "    <tr>\n",
              "      <th>(14.0, 20.0]</th>\n",
              "      <td>0.654801</td>\n",
              "      <td>19131</td>\n",
              "    </tr>\n",
              "    <tr>\n",
              "      <th>(20.0, 21.0]</th>\n",
              "      <td>0.983274</td>\n",
              "      <td>3647</td>\n",
              "    </tr>\n",
              "    <tr>\n",
              "      <th>(21.0, 336.0]</th>\n",
              "      <td>0.801395</td>\n",
              "      <td>7170</td>\n",
              "    </tr>\n",
              "  </tbody>\n",
              "</table>\n",
              "</div>\n",
              "      <button class=\"colab-df-convert\" onclick=\"convertToInteractive('df-d10b9c6b-aeaa-4687-8eb0-1d1d04d87e0b')\"\n",
              "              title=\"Convert this dataframe to an interactive table.\"\n",
              "              style=\"display:none;\">\n",
              "        \n",
              "  <svg xmlns=\"http://www.w3.org/2000/svg\" height=\"24px\"viewBox=\"0 0 24 24\"\n",
              "       width=\"24px\">\n",
              "    <path d=\"M0 0h24v24H0V0z\" fill=\"none\"/>\n",
              "    <path d=\"M18.56 5.44l.94 2.06.94-2.06 2.06-.94-2.06-.94-.94-2.06-.94 2.06-2.06.94zm-11 1L8.5 8.5l.94-2.06 2.06-.94-2.06-.94L8.5 2.5l-.94 2.06-2.06.94zm10 10l.94 2.06.94-2.06 2.06-.94-2.06-.94-.94-2.06-.94 2.06-2.06.94z\"/><path d=\"M17.41 7.96l-1.37-1.37c-.4-.4-.92-.59-1.43-.59-.52 0-1.04.2-1.43.59L10.3 9.45l-7.72 7.72c-.78.78-.78 2.05 0 2.83L4 21.41c.39.39.9.59 1.41.59.51 0 1.02-.2 1.41-.59l7.78-7.78 2.81-2.81c.8-.78.8-2.07 0-2.86zM5.41 20L4 18.59l7.72-7.72 1.47 1.35L5.41 20z\"/>\n",
              "  </svg>\n",
              "      </button>\n",
              "      \n",
              "  <style>\n",
              "    .colab-df-container {\n",
              "      display:flex;\n",
              "      flex-wrap:wrap;\n",
              "      gap: 12px;\n",
              "    }\n",
              "\n",
              "    .colab-df-convert {\n",
              "      background-color: #E8F0FE;\n",
              "      border: none;\n",
              "      border-radius: 50%;\n",
              "      cursor: pointer;\n",
              "      display: none;\n",
              "      fill: #1967D2;\n",
              "      height: 32px;\n",
              "      padding: 0 0 0 0;\n",
              "      width: 32px;\n",
              "    }\n",
              "\n",
              "    .colab-df-convert:hover {\n",
              "      background-color: #E2EBFA;\n",
              "      box-shadow: 0px 1px 2px rgba(60, 64, 67, 0.3), 0px 1px 3px 1px rgba(60, 64, 67, 0.15);\n",
              "      fill: #174EA6;\n",
              "    }\n",
              "\n",
              "    [theme=dark] .colab-df-convert {\n",
              "      background-color: #3B4455;\n",
              "      fill: #D2E3FC;\n",
              "    }\n",
              "\n",
              "    [theme=dark] .colab-df-convert:hover {\n",
              "      background-color: #434B5C;\n",
              "      box-shadow: 0px 1px 3px 1px rgba(0, 0, 0, 0.15);\n",
              "      filter: drop-shadow(0px 1px 2px rgba(0, 0, 0, 0.3));\n",
              "      fill: #FFFFFF;\n",
              "    }\n",
              "  </style>\n",
              "\n",
              "      <script>\n",
              "        const buttonEl =\n",
              "          document.querySelector('#df-d10b9c6b-aeaa-4687-8eb0-1d1d04d87e0b button.colab-df-convert');\n",
              "        buttonEl.style.display =\n",
              "          google.colab.kernel.accessAllowed ? 'block' : 'none';\n",
              "\n",
              "        async function convertToInteractive(key) {\n",
              "          const element = document.querySelector('#df-d10b9c6b-aeaa-4687-8eb0-1d1d04d87e0b');\n",
              "          const dataTable =\n",
              "            await google.colab.kernel.invokeFunction('convertToInteractive',\n",
              "                                                     [key], {});\n",
              "          if (!dataTable) return;\n",
              "\n",
              "          const docLinkHtml = 'Like what you see? Visit the ' +\n",
              "            '<a target=\"_blank\" href=https://colab.research.google.com/notebooks/data_table.ipynb>data table notebook</a>'\n",
              "            + ' to learn more about interactive tables.';\n",
              "          element.innerHTML = '';\n",
              "          dataTable['output_type'] = 'display_data';\n",
              "          await google.colab.output.renderOutput(dataTable, element);\n",
              "          const docLink = document.createElement('div');\n",
              "          docLink.innerHTML = docLinkHtml;\n",
              "          element.appendChild(docLink);\n",
              "        }\n",
              "      </script>\n",
              "    </div>\n",
              "  </div>\n",
              "  "
            ]
          },
          "metadata": {},
          "execution_count": 179
        }
      ]
    },
    {
      "cell_type": "markdown",
      "source": [
        "Наибольший процент отклонений у людей, планирующих взять кредит на три недели, наименьший - на две."
      ],
      "metadata": {
        "id": "JtJSVuIwtAEq"
      }
    },
    {
      "cell_type": "code",
      "source": [
        "df['income_cat'] = pd.qcut(df['month_income'],5,duplicates='drop')"
      ],
      "metadata": {
        "id": "bX7BHGZDU9Tl"
      },
      "execution_count": 180,
      "outputs": []
    },
    {
      "cell_type": "code",
      "source": [
        "df.groupby('income_cat')['expert'].agg(['mean','count'])"
      ],
      "metadata": {
        "colab": {
          "base_uri": "https://localhost:8080/",
          "height": 206
        },
        "id": "2muGI0qzVDhu",
        "outputId": "9a0b890c-03d7-4f2a-ec8e-6ce282cbe6c6"
      },
      "execution_count": 181,
      "outputs": [
        {
          "output_type": "execute_result",
          "data": {
            "text/plain": [
              "                         mean  count\n",
              "income_cat                          \n",
              "(-0.001, 20000.0]    0.863225  22972\n",
              "(20000.0, 35000.0]   0.684896  15817\n",
              "(35000.0, 50000.0]   0.601476   8401\n",
              "(50000.0, 550000.0]  0.621843   2811"
            ],
            "text/html": [
              "\n",
              "  <div id=\"df-15df7e31-34c6-4621-a2fd-e20ead003050\">\n",
              "    <div class=\"colab-df-container\">\n",
              "      <div>\n",
              "<style scoped>\n",
              "    .dataframe tbody tr th:only-of-type {\n",
              "        vertical-align: middle;\n",
              "    }\n",
              "\n",
              "    .dataframe tbody tr th {\n",
              "        vertical-align: top;\n",
              "    }\n",
              "\n",
              "    .dataframe thead th {\n",
              "        text-align: right;\n",
              "    }\n",
              "</style>\n",
              "<table border=\"1\" class=\"dataframe\">\n",
              "  <thead>\n",
              "    <tr style=\"text-align: right;\">\n",
              "      <th></th>\n",
              "      <th>mean</th>\n",
              "      <th>count</th>\n",
              "    </tr>\n",
              "    <tr>\n",
              "      <th>income_cat</th>\n",
              "      <th></th>\n",
              "      <th></th>\n",
              "    </tr>\n",
              "  </thead>\n",
              "  <tbody>\n",
              "    <tr>\n",
              "      <th>(-0.001, 20000.0]</th>\n",
              "      <td>0.863225</td>\n",
              "      <td>22972</td>\n",
              "    </tr>\n",
              "    <tr>\n",
              "      <th>(20000.0, 35000.0]</th>\n",
              "      <td>0.684896</td>\n",
              "      <td>15817</td>\n",
              "    </tr>\n",
              "    <tr>\n",
              "      <th>(35000.0, 50000.0]</th>\n",
              "      <td>0.601476</td>\n",
              "      <td>8401</td>\n",
              "    </tr>\n",
              "    <tr>\n",
              "      <th>(50000.0, 550000.0]</th>\n",
              "      <td>0.621843</td>\n",
              "      <td>2811</td>\n",
              "    </tr>\n",
              "  </tbody>\n",
              "</table>\n",
              "</div>\n",
              "      <button class=\"colab-df-convert\" onclick=\"convertToInteractive('df-15df7e31-34c6-4621-a2fd-e20ead003050')\"\n",
              "              title=\"Convert this dataframe to an interactive table.\"\n",
              "              style=\"display:none;\">\n",
              "        \n",
              "  <svg xmlns=\"http://www.w3.org/2000/svg\" height=\"24px\"viewBox=\"0 0 24 24\"\n",
              "       width=\"24px\">\n",
              "    <path d=\"M0 0h24v24H0V0z\" fill=\"none\"/>\n",
              "    <path d=\"M18.56 5.44l.94 2.06.94-2.06 2.06-.94-2.06-.94-.94-2.06-.94 2.06-2.06.94zm-11 1L8.5 8.5l.94-2.06 2.06-.94-2.06-.94L8.5 2.5l-.94 2.06-2.06.94zm10 10l.94 2.06.94-2.06 2.06-.94-2.06-.94-.94-2.06-.94 2.06-2.06.94z\"/><path d=\"M17.41 7.96l-1.37-1.37c-.4-.4-.92-.59-1.43-.59-.52 0-1.04.2-1.43.59L10.3 9.45l-7.72 7.72c-.78.78-.78 2.05 0 2.83L4 21.41c.39.39.9.59 1.41.59.51 0 1.02-.2 1.41-.59l7.78-7.78 2.81-2.81c.8-.78.8-2.07 0-2.86zM5.41 20L4 18.59l7.72-7.72 1.47 1.35L5.41 20z\"/>\n",
              "  </svg>\n",
              "      </button>\n",
              "      \n",
              "  <style>\n",
              "    .colab-df-container {\n",
              "      display:flex;\n",
              "      flex-wrap:wrap;\n",
              "      gap: 12px;\n",
              "    }\n",
              "\n",
              "    .colab-df-convert {\n",
              "      background-color: #E8F0FE;\n",
              "      border: none;\n",
              "      border-radius: 50%;\n",
              "      cursor: pointer;\n",
              "      display: none;\n",
              "      fill: #1967D2;\n",
              "      height: 32px;\n",
              "      padding: 0 0 0 0;\n",
              "      width: 32px;\n",
              "    }\n",
              "\n",
              "    .colab-df-convert:hover {\n",
              "      background-color: #E2EBFA;\n",
              "      box-shadow: 0px 1px 2px rgba(60, 64, 67, 0.3), 0px 1px 3px 1px rgba(60, 64, 67, 0.15);\n",
              "      fill: #174EA6;\n",
              "    }\n",
              "\n",
              "    [theme=dark] .colab-df-convert {\n",
              "      background-color: #3B4455;\n",
              "      fill: #D2E3FC;\n",
              "    }\n",
              "\n",
              "    [theme=dark] .colab-df-convert:hover {\n",
              "      background-color: #434B5C;\n",
              "      box-shadow: 0px 1px 3px 1px rgba(0, 0, 0, 0.15);\n",
              "      filter: drop-shadow(0px 1px 2px rgba(0, 0, 0, 0.3));\n",
              "      fill: #FFFFFF;\n",
              "    }\n",
              "  </style>\n",
              "\n",
              "      <script>\n",
              "        const buttonEl =\n",
              "          document.querySelector('#df-15df7e31-34c6-4621-a2fd-e20ead003050 button.colab-df-convert');\n",
              "        buttonEl.style.display =\n",
              "          google.colab.kernel.accessAllowed ? 'block' : 'none';\n",
              "\n",
              "        async function convertToInteractive(key) {\n",
              "          const element = document.querySelector('#df-15df7e31-34c6-4621-a2fd-e20ead003050');\n",
              "          const dataTable =\n",
              "            await google.colab.kernel.invokeFunction('convertToInteractive',\n",
              "                                                     [key], {});\n",
              "          if (!dataTable) return;\n",
              "\n",
              "          const docLinkHtml = 'Like what you see? Visit the ' +\n",
              "            '<a target=\"_blank\" href=https://colab.research.google.com/notebooks/data_table.ipynb>data table notebook</a>'\n",
              "            + ' to learn more about interactive tables.';\n",
              "          element.innerHTML = '';\n",
              "          dataTable['output_type'] = 'display_data';\n",
              "          await google.colab.output.renderOutput(dataTable, element);\n",
              "          const docLink = document.createElement('div');\n",
              "          docLink.innerHTML = docLinkHtml;\n",
              "          element.appendChild(docLink);\n",
              "        }\n",
              "      </script>\n",
              "    </div>\n",
              "  </div>\n",
              "  "
            ]
          },
          "metadata": {},
          "execution_count": 181
        }
      ]
    },
    {
      "cell_type": "markdown",
      "source": [
        "Видим, что процент отказов сильно зависит от дохода клиента."
      ],
      "metadata": {
        "id": "Z_SPIgiaqJTL"
      }
    },
    {
      "cell_type": "markdown",
      "source": [
        "# Обучение модели\n"
      ],
      "metadata": {
        "id": "gt9y1JqtoB-3"
      }
    },
    {
      "cell_type": "code",
      "source": [
        "from sklearn.model_selection import train_test_split"
      ],
      "metadata": {
        "id": "8rzGKzf5iyyV"
      },
      "execution_count": 182,
      "outputs": []
    },
    {
      "cell_type": "code",
      "source": [
        "X_train, X_test, y_train, y_test = train_test_split(\n",
        " df1[features], df1[\"expert\"], test_size=0.33, random_state=42)"
      ],
      "metadata": {
        "id": "8tkeuQtGjRBG"
      },
      "execution_count": 183,
      "outputs": []
    },
    {
      "cell_type": "code",
      "source": [
        "! pip install catboost"
      ],
      "metadata": {
        "colab": {
          "base_uri": "https://localhost:8080/"
        },
        "id": "mCIiK6JxjoVA",
        "outputId": "39d64832-6a9c-4d07-cc2a-584e5e6e442b"
      },
      "execution_count": 184,
      "outputs": [
        {
          "output_type": "stream",
          "name": "stdout",
          "text": [
            "Looking in indexes: https://pypi.org/simple, https://us-python.pkg.dev/colab-wheels/public/simple/\n",
            "Requirement already satisfied: catboost in /usr/local/lib/python3.8/dist-packages (1.1.1)\n",
            "Requirement already satisfied: six in /usr/local/lib/python3.8/dist-packages (from catboost) (1.15.0)\n",
            "Requirement already satisfied: plotly in /usr/local/lib/python3.8/dist-packages (from catboost) (5.5.0)\n",
            "Requirement already satisfied: matplotlib in /usr/local/lib/python3.8/dist-packages (from catboost) (3.2.2)\n",
            "Requirement already satisfied: pandas>=0.24.0 in /usr/local/lib/python3.8/dist-packages (from catboost) (1.3.5)\n",
            "Requirement already satisfied: scipy in /usr/local/lib/python3.8/dist-packages (from catboost) (1.7.3)\n",
            "Requirement already satisfied: graphviz in /usr/local/lib/python3.8/dist-packages (from catboost) (0.10.1)\n",
            "Requirement already satisfied: numpy>=1.16.0 in /usr/local/lib/python3.8/dist-packages (from catboost) (1.21.6)\n",
            "Requirement already satisfied: python-dateutil>=2.7.3 in /usr/local/lib/python3.8/dist-packages (from pandas>=0.24.0->catboost) (2.8.2)\n",
            "Requirement already satisfied: pytz>=2017.3 in /usr/local/lib/python3.8/dist-packages (from pandas>=0.24.0->catboost) (2022.7.1)\n",
            "Requirement already satisfied: cycler>=0.10 in /usr/local/lib/python3.8/dist-packages (from matplotlib->catboost) (0.11.0)\n",
            "Requirement already satisfied: pyparsing!=2.0.4,!=2.1.2,!=2.1.6,>=2.0.1 in /usr/local/lib/python3.8/dist-packages (from matplotlib->catboost) (3.0.9)\n",
            "Requirement already satisfied: kiwisolver>=1.0.1 in /usr/local/lib/python3.8/dist-packages (from matplotlib->catboost) (1.4.4)\n",
            "Requirement already satisfied: tenacity>=6.2.0 in /usr/local/lib/python3.8/dist-packages (from plotly->catboost) (8.1.0)\n"
          ]
        }
      ]
    },
    {
      "cell_type": "code",
      "source": [
        "from catboost import CatBoostClassifier"
      ],
      "metadata": {
        "id": "KFeq2PDoj7hg"
      },
      "execution_count": 185,
      "outputs": []
    },
    {
      "cell_type": "code",
      "source": [
        "model = CatBoostClassifier(verbose=100,\n",
        "                           random_state=42,\n",
        "                           learning_rate=0.5,\n",
        "                           early_stopping_rounds=200,\n",
        "                           eval_metric='AUC',\n",
        "                           cat_features=categorical\n",
        "                           )"
      ],
      "metadata": {
        "id": "jQ8ZcOcZkC7E"
      },
      "execution_count": 186,
      "outputs": []
    },
    {
      "cell_type": "code",
      "source": [
        "model.fit(X_train,y_train,eval_set=(X_train,y_train))"
      ],
      "metadata": {
        "colab": {
          "base_uri": "https://localhost:8080/"
        },
        "id": "F9x3_gASkhKt",
        "outputId": "2fe86852-9127-4cb6-92fc-10f8663f860e"
      },
      "execution_count": 187,
      "outputs": [
        {
          "output_type": "stream",
          "name": "stdout",
          "text": [
            "0:\ttest: 0.8668431\tbest: 0.8668431 (0)\ttotal: 32.6ms\tremaining: 32.6s\n",
            "100:\ttest: 0.9703985\tbest: 0.9703985 (100)\ttotal: 2.96s\tremaining: 26.4s\n",
            "200:\ttest: 0.9838135\tbest: 0.9838135 (200)\ttotal: 5.79s\tremaining: 23s\n",
            "300:\ttest: 0.9912683\tbest: 0.9912683 (300)\ttotal: 9.57s\tremaining: 22.2s\n",
            "400:\ttest: 0.9951707\tbest: 0.9951707 (400)\ttotal: 12.4s\tremaining: 18.5s\n",
            "500:\ttest: 0.9975048\tbest: 0.9975048 (500)\ttotal: 15.2s\tremaining: 15.1s\n",
            "600:\ttest: 0.9987289\tbest: 0.9987289 (600)\ttotal: 19.2s\tremaining: 12.8s\n",
            "700:\ttest: 0.9993483\tbest: 0.9993483 (700)\ttotal: 23.4s\tremaining: 9.96s\n",
            "800:\ttest: 0.9996555\tbest: 0.9996555 (800)\ttotal: 26.1s\tremaining: 6.48s\n",
            "900:\ttest: 0.9998309\tbest: 0.9998309 (900)\ttotal: 28.9s\tremaining: 3.17s\n",
            "999:\ttest: 0.9998960\tbest: 0.9998960 (999)\ttotal: 32.5s\tremaining: 0us\n",
            "\n",
            "bestTest = 0.9998960006\n",
            "bestIteration = 999\n",
            "\n"
          ]
        },
        {
          "output_type": "execute_result",
          "data": {
            "text/plain": [
              "<catboost.core.CatBoostClassifier at 0x7f4b9c37f190>"
            ]
          },
          "metadata": {},
          "execution_count": 187
        }
      ]
    },
    {
      "cell_type": "code",
      "source": [
        "prediction = model.predict(X_test)"
      ],
      "metadata": {
        "id": "96g20zWCm2NI"
      },
      "execution_count": 188,
      "outputs": []
    },
    {
      "cell_type": "markdown",
      "source": [
        "Теперь проверим нашу разбалансированную выборку при помощи classification report"
      ],
      "metadata": {
        "id": "jT2RlvuJmEsG"
      }
    },
    {
      "cell_type": "code",
      "source": [
        "from sklearn.metrics import classification_report"
      ],
      "metadata": {
        "id": "eBjYQHjNmCCQ"
      },
      "execution_count": 189,
      "outputs": []
    },
    {
      "cell_type": "code",
      "source": [
        "print(classification_report(y_test, prediction))"
      ],
      "metadata": {
        "colab": {
          "base_uri": "https://localhost:8080/"
        },
        "id": "eAjGdQHdngSD",
        "outputId": "1bba33c2-da40-4592-e04b-82bab3c07fa3"
      },
      "execution_count": 190,
      "outputs": [
        {
          "output_type": "stream",
          "name": "stdout",
          "text": [
            "              precision    recall  f1-score   support\n",
            "\n",
            "           0       0.83      0.79      0.81      4163\n",
            "           1       0.93      0.94      0.94     12338\n",
            "\n",
            "    accuracy                           0.91     16501\n",
            "   macro avg       0.88      0.87      0.87     16501\n",
            "weighted avg       0.91      0.91      0.91     16501\n",
            "\n"
          ]
        }
      ]
    },
    {
      "cell_type": "markdown",
      "source": [
        "Посмотрим, сможем ли мы её улучшить"
      ],
      "metadata": {
        "id": "Zp4S5k8UoC1o"
      }
    },
    {
      "cell_type": "code",
      "source": [
        "x = df1.drop(\"expert\",axis = \"columns\")\n",
        "y = df1[\"expert\"]"
      ],
      "metadata": {
        "id": "VaH30e9BrmMp"
      },
      "execution_count": 191,
      "outputs": []
    },
    {
      "cell_type": "code",
      "source": [
        "!pip install imbalanced-learn"
      ],
      "metadata": {
        "colab": {
          "base_uri": "https://localhost:8080/"
        },
        "id": "gW6OJskDoAWj",
        "outputId": "db1851db-adfa-4b2f-e041-30c29dbfe498"
      },
      "execution_count": 192,
      "outputs": [
        {
          "output_type": "stream",
          "name": "stdout",
          "text": [
            "Looking in indexes: https://pypi.org/simple, https://us-python.pkg.dev/colab-wheels/public/simple/\n",
            "Requirement already satisfied: imbalanced-learn in /usr/local/lib/python3.8/dist-packages (0.8.1)\n",
            "Requirement already satisfied: scikit-learn>=0.24 in /usr/local/lib/python3.8/dist-packages (from imbalanced-learn) (1.0.2)\n",
            "Requirement already satisfied: scipy>=0.19.1 in /usr/local/lib/python3.8/dist-packages (from imbalanced-learn) (1.7.3)\n",
            "Requirement already satisfied: numpy>=1.13.3 in /usr/local/lib/python3.8/dist-packages (from imbalanced-learn) (1.21.6)\n",
            "Requirement already satisfied: joblib>=0.11 in /usr/local/lib/python3.8/dist-packages (from imbalanced-learn) (1.2.0)\n",
            "Requirement already satisfied: threadpoolctl>=2.0.0 in /usr/local/lib/python3.8/dist-packages (from scikit-learn>=0.24->imbalanced-learn) (3.1.0)\n"
          ]
        }
      ]
    },
    {
      "cell_type": "code",
      "source": [
        "from imblearn.over_sampling import SMOTE\n",
        "smote = SMOTE(sampling_strategy = \"minority\")\n",
        "x_sm, y_sm = smote.fit_resample(x,y)\n",
        "y_sm.value_counts()"
      ],
      "metadata": {
        "colab": {
          "base_uri": "https://localhost:8080/"
        },
        "id": "7oAOiYXspTbH",
        "outputId": "e74937da-0fc8-45cb-e38b-af791920b4bb"
      },
      "execution_count": 193,
      "outputs": [
        {
          "output_type": "execute_result",
          "data": {
            "text/plain": [
              "1    37464\n",
              "0    37464\n",
              "Name: expert, dtype: int64"
            ]
          },
          "metadata": {},
          "execution_count": 193
        }
      ]
    },
    {
      "cell_type": "code",
      "source": [
        "x_sm.dtypes"
      ],
      "metadata": {
        "colab": {
          "base_uri": "https://localhost:8080/"
        },
        "id": "zac54joNLWIf",
        "outputId": "675f2b41-7f73-4b85-dc56-37267606477e"
      },
      "execution_count": 194,
      "outputs": [
        {
          "output_type": "execute_result",
          "data": {
            "text/plain": [
              "closed_cred_sum            float64\n",
              "closed_creds                 int64\n",
              "active_cred_sum_overdue    float64\n",
              "active_cred_sum            float64\n",
              "active_cred_day_overdue      int64\n",
              "active_cred_max_overdue    float64\n",
              "age                          int64\n",
              "gender                      object\n",
              "region                      object\n",
              "first_loan                 float64\n",
              "loan_cost_all                int64\n",
              "first_days_quant             int64\n",
              "month_income               float64\n",
              "order_date                   int64\n",
              "cost_all                   float64\n",
              "order_id                     int64\n",
              "client_id                    int64\n",
              "dtype: object"
            ]
          },
          "metadata": {},
          "execution_count": 194
        }
      ]
    },
    {
      "cell_type": "code",
      "source": [
        "x_sm[['gender','region']] = x_sm[['gender','region']].astype(str)\n",
        "x_sm.dtypes"
      ],
      "metadata": {
        "colab": {
          "base_uri": "https://localhost:8080/"
        },
        "id": "lZbBlpo1LvMZ",
        "outputId": "064498d7-9f3c-44e0-acc6-c1aa8b499a15"
      },
      "execution_count": 195,
      "outputs": [
        {
          "output_type": "execute_result",
          "data": {
            "text/plain": [
              "closed_cred_sum            float64\n",
              "closed_creds                 int64\n",
              "active_cred_sum_overdue    float64\n",
              "active_cred_sum            float64\n",
              "active_cred_day_overdue      int64\n",
              "active_cred_max_overdue    float64\n",
              "age                          int64\n",
              "gender                      object\n",
              "region                      object\n",
              "first_loan                 float64\n",
              "loan_cost_all                int64\n",
              "first_days_quant             int64\n",
              "month_income               float64\n",
              "order_date                   int64\n",
              "cost_all                   float64\n",
              "order_id                     int64\n",
              "client_id                    int64\n",
              "dtype: object"
            ]
          },
          "metadata": {},
          "execution_count": 195
        }
      ]
    },
    {
      "cell_type": "code",
      "source": [
        "X_train, X_test, y_train, y_test = train_test_split(\n",
        " x_sm, y_sm, test_size=0.33, random_state=42)\n",
        "\n",
        "\n",
        "model.fit(X_train,y_train,eval_set=(X_train,y_train))\n",
        "\n",
        "prediction = model.predict(X_test)"
      ],
      "metadata": {
        "colab": {
          "base_uri": "https://localhost:8080/"
        },
        "id": "d30Lciglsuj1",
        "outputId": "6e671a4d-fc4f-42f1-f316-009b9da7cb9a"
      },
      "execution_count": 196,
      "outputs": [
        {
          "output_type": "stream",
          "name": "stdout",
          "text": [
            "0:\ttest: 0.9828840\tbest: 0.9828840 (0)\ttotal: 52.7ms\tremaining: 52.7s\n",
            "100:\ttest: 0.9997077\tbest: 0.9997077 (100)\ttotal: 6.14s\tremaining: 54.7s\n",
            "200:\ttest: 0.9999321\tbest: 0.9999321 (200)\ttotal: 10.7s\tremaining: 42.5s\n",
            "300:\ttest: 0.9999779\tbest: 0.9999779 (298)\ttotal: 15.8s\tremaining: 36.7s\n",
            "400:\ttest: 0.9999846\tbest: 0.9999846 (398)\ttotal: 19.7s\tremaining: 29.5s\n",
            "500:\ttest: 0.9999864\tbest: 0.9999865 (492)\ttotal: 23.4s\tremaining: 23.3s\n",
            "600:\ttest: 0.9999883\tbest: 0.9999883 (559)\ttotal: 27.8s\tremaining: 18.4s\n",
            "700:\ttest: 0.9999895\tbest: 0.9999895 (665)\ttotal: 32.9s\tremaining: 14s\n",
            "800:\ttest: 0.9999899\tbest: 0.9999899 (789)\ttotal: 41.4s\tremaining: 10.3s\n",
            "900:\ttest: 0.9999912\tbest: 0.9999912 (896)\ttotal: 50.6s\tremaining: 5.56s\n",
            "999:\ttest: 0.9999922\tbest: 0.9999922 (947)\ttotal: 55s\tremaining: 0us\n",
            "\n",
            "bestTest = 0.9999922052\n",
            "bestIteration = 947\n",
            "\n",
            "Shrink model to first 948 iterations.\n"
          ]
        }
      ]
    },
    {
      "cell_type": "code",
      "source": [
        "print(classification_report(y_test, prediction))"
      ],
      "metadata": {
        "colab": {
          "base_uri": "https://localhost:8080/"
        },
        "id": "1_eUB31ruDg8",
        "outputId": "22e3ce85-29d4-40d9-931a-1ace3e8cba3c"
      },
      "execution_count": 197,
      "outputs": [
        {
          "output_type": "stream",
          "name": "stdout",
          "text": [
            "              precision    recall  f1-score   support\n",
            "\n",
            "           0       1.00      0.99      0.99     12313\n",
            "           1       0.99      1.00      0.99     12414\n",
            "\n",
            "    accuracy                           0.99     24727\n",
            "   macro avg       0.99      0.99      0.99     24727\n",
            "weighted avg       0.99      0.99      0.99     24727\n",
            "\n"
          ]
        }
      ]
    },
    {
      "cell_type": "markdown",
      "source": [
        "Как видим, после использования SMOTE показатели модели значительно улучшились."
      ],
      "metadata": {
        "id": "Y4FW_4vuueFB"
      }
    }
  ]
}