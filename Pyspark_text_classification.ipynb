{
  "nbformat": 4,
  "nbformat_minor": 0,
  "metadata": {
    "colab": {
      "provenance": []
    },
    "kernelspec": {
      "name": "python3",
      "display_name": "Python 3"
    },
    "language_info": {
      "name": "python"
    }
  },
  "cells": [
    {
      "cell_type": "markdown",
      "source": [
        "#Simple text classification in pyspark"
      ],
      "metadata": {
        "id": "hVleJNJrYp64"
      }
    },
    {
      "cell_type": "code",
      "execution_count": 80,
      "metadata": {
        "colab": {
          "base_uri": "https://localhost:8080/"
        },
        "id": "Vbl130-zXHV9",
        "outputId": "468efb4c-c432-4ca5-9848-b8c2e6b0a32c"
      },
      "outputs": [
        {
          "output_type": "stream",
          "name": "stdout",
          "text": [
            "Looking in indexes: https://pypi.org/simple, https://us-python.pkg.dev/colab-wheels/public/simple/\n",
            "Requirement already satisfied: pyspark in /usr/local/lib/python3.10/dist-packages (3.4.0)\n",
            "Requirement already satisfied: py4j==0.10.9.7 in /usr/local/lib/python3.10/dist-packages (from pyspark) (0.10.9.7)\n"
          ]
        }
      ],
      "source": [
        "!pip install pyspark"
      ]
    },
    {
      "cell_type": "code",
      "source": [
        "import pyspark"
      ],
      "metadata": {
        "id": "__dc1isWYH80"
      },
      "execution_count": 81,
      "outputs": []
    },
    {
      "cell_type": "code",
      "source": [
        "from pyspark.sql import SparkSession\n",
        "spark = SparkSession.builder.appName(\"TextClassifierwithPySpark\").getOrCreate()"
      ],
      "metadata": {
        "id": "W_LKXNFJX99l"
      },
      "execution_count": 82,
      "outputs": []
    },
    {
      "cell_type": "code",
      "source": [
        "!gdown --fuzzy https://drive.google.com/file/d/134oSNkuKlrbmkP8dPXQtA60kioMsx2IU/view?usp=share_link"
      ],
      "metadata": {
        "colab": {
          "base_uri": "https://localhost:8080/"
        },
        "id": "by1eHQPuZ_Ib",
        "outputId": "7c74cbe9-0ccf-4a3a-f20a-4eca58a81ff5"
      },
      "execution_count": 83,
      "outputs": [
        {
          "output_type": "stream",
          "name": "stdout",
          "text": [
            "Downloading...\n",
            "From: https://drive.google.com/uc?id=134oSNkuKlrbmkP8dPXQtA60kioMsx2IU\n",
            "To: /content/udemy_courses_clean.csv\n",
            "\r  0% 0.00/870k [00:00<?, ?B/s]\r100% 870k/870k [00:00<00:00, 145MB/s]\n"
          ]
        }
      ]
    },
    {
      "cell_type": "code",
      "source": [
        "df = spark.read.csv(\"/content/udemy_courses_clean.csv\",header=True,inferSchema=True)\n",
        "df.show()"
      ],
      "metadata": {
        "colab": {
          "base_uri": "https://localhost:8080/"
        },
        "id": "wFVX57V4Yfwi",
        "outputId": "a39eb73a-a222-49ff-d1cd-749db2e0c9fb"
      },
      "execution_count": 84,
      "outputs": [
        {
          "output_type": "stream",
          "name": "stdout",
          "text": [
            "+---+---------+--------------------+--------------------+-------+-----+---------------+-----------+------------+------------------+----------------+--------------------+----------------+--------------------+\n",
            "|_c0|course_id|        course_title|                 url|is_paid|price|num_subscribers|num_reviews|num_lectures|             level|content_duration| published_timestamp|         subject|  clean_course_title|\n",
            "+---+---------+--------------------+--------------------+-------+-----+---------------+-----------+------------+------------------+----------------+--------------------+----------------+--------------------+\n",
            "|  0|  1070968|Ultimate Investme...|https://www.udemy...|   True|  200|           2147|         23|          51|        All Levels|       1.5 hours|2017-01-18T20:58:58Z|Business Finance|Ultimate Investme...|\n",
            "|  1|  1113822|Complete GST Cour...|https://www.udemy...|   True|   75|           2792|        923|         274|        All Levels|        39 hours|2017-03-09T16:34:20Z|Business Finance|Complete GST Cour...|\n",
            "|  2|  1006314|Financial Modelin...|https://www.udemy...|   True|   45|           2174|         74|          51|Intermediate Level|       2.5 hours|2016-12-19T19:26:30Z|Business Finance|Financial Modelin...|\n",
            "|  3|  1210588|Beginner to Pro -...|https://www.udemy...|   True|   95|           2451|         11|          36|        All Levels|         3 hours|2017-05-30T20:07:24Z|Business Finance|Beginner Pro  Fin...|\n",
            "|  4|  1011058|How To Maximize Y...|https://www.udemy...|   True|  200|           1276|         45|          26|Intermediate Level|         2 hours|2016-12-13T14:57:18Z|Business Finance|Maximize Profits ...|\n",
            "|  5|   192870|Trading Penny Sto...|https://www.udemy...|   True|  150|           9221|        138|          25|        All Levels|         3 hours|2014-05-02T15:13:30Z|Business Finance|Trading Penny Sto...|\n",
            "|  6|   739964|Investing And Tra...|https://www.udemy...|   True|   65|           1540|        178|          26|    Beginner Level|          1 hour|2016-02-21T18:23:12Z|Business Finance|Investing Trading...|\n",
            "|  7|   403100|Trading Stock Cha...|https://www.udemy...|   True|   95|           2917|        148|          23|        All Levels|       2.5 hours|2015-01-30T22:13:03Z|Business Finance|Trading Stock Cha...|\n",
            "|  8|   476268|Options Trading 3...|https://www.udemy...|   True|  195|           5172|         34|          38|      Expert Level|       2.5 hours|2015-05-28T00:14:03Z|Business Finance|Options Trading 3...|\n",
            "|  9|  1167710|The Only Investme...|https://www.udemy...|   True|  200|            827|         14|          15|        All Levels|          1 hour|2017-04-18T18:13:32Z|Business Finance|Investment Strate...|\n",
            "| 10|   592338|Forex Trading Sec...|https://www.udemy...|   True|  200|           4284|         93|          76|        All Levels|         5 hours|2015-09-11T16:47:02Z|Business Finance|Forex Trading Sec...|\n",
            "| 11|   975046|Trading Options W...|https://www.udemy...|   True|  200|           1380|         42|          17|        All Levels|          1 hour|2016-10-18T22:52:31Z|Business Finance|Trading Options M...|\n",
            "| 12|   742602|Financial Managem...|https://www.udemy...|   True|   30|           3607|         21|          19|        All Levels|       1.5 hours|2016-02-03T18:04:01Z|Business Finance|Financial Managem...|\n",
            "| 13|   794151|Forex Trading Cou...|https://www.udemy...|   True|  195|           4061|         52|          16|        All Levels|         2 hours|2016-03-16T15:40:19Z|Business Finance|Forex Trading Cou...|\n",
            "| 14|  1196544|Python Algo Tradi...|https://www.udemy...|   True|  200|            294|         19|          42|        All Levels|         7 hours|2017-04-28T16:41:44Z|Business Finance|Python Algo Tradi...|\n",
            "| 15|   504036|Short Selling: Le...|https://www.udemy...|   True|   75|           2276|        106|          19|Intermediate Level|       1.5 hours|2015-06-22T21:18:35Z|Business Finance|Short Selling Lea...|\n",
            "| 16|   719698|Basic Technical A...|https://www.udemy...|   True|   20|           4919|         79|          16|    Beginner Level|       1.5 hours|2016-01-08T17:21:26Z|Business Finance|Basic Technical A...|\n",
            "| 17|   564966|The Complete Char...|https://www.udemy...|   True|  200|           2666|        115|          52|        All Levels|         4 hours|2015-08-10T21:07:35Z|Business Finance|Complete Chart Pa...|\n",
            "| 18|   606928|7 Deadly Mistakes...|https://www.udemy...|   True|   50|           5354|         24|          23|        All Levels|       1.5 hours|2015-09-21T18:10:34Z|Business Finance|7 Deadly Mistakes...|\n",
            "| 19|    58977|Financial Stateme...|https://www.udemy...|   True|   95|           8095|        249|          12|    Beginner Level|         35 mins|2013-06-09T00:21:26Z|Business Finance|Financial Stateme...|\n",
            "+---+---------+--------------------+--------------------+-------+-----+---------------+-----------+------------+------------------+----------------+--------------------+----------------+--------------------+\n",
            "only showing top 20 rows\n",
            "\n"
          ]
        }
      ]
    },
    {
      "cell_type": "markdown",
      "source": [
        "our target is subject column"
      ],
      "metadata": {
        "id": "OTQh5Wh4ajtF"
      }
    },
    {
      "cell_type": "code",
      "source": [
        "df = df.select('course_title','subject')"
      ],
      "metadata": {
        "id": "F6iaB9aAaefV"
      },
      "execution_count": 85,
      "outputs": []
    },
    {
      "cell_type": "code",
      "source": [
        "df.show()"
      ],
      "metadata": {
        "colab": {
          "base_uri": "https://localhost:8080/"
        },
        "id": "3UTUIsfNh1fl",
        "outputId": "69f6a6a3-4fe2-4f6e-e284-a5e646cdae3d"
      },
      "execution_count": 86,
      "outputs": [
        {
          "output_type": "stream",
          "name": "stdout",
          "text": [
            "+--------------------+----------------+\n",
            "|        course_title|         subject|\n",
            "+--------------------+----------------+\n",
            "|Ultimate Investme...|Business Finance|\n",
            "|Complete GST Cour...|Business Finance|\n",
            "|Financial Modelin...|Business Finance|\n",
            "|Beginner to Pro -...|Business Finance|\n",
            "|How To Maximize Y...|Business Finance|\n",
            "|Trading Penny Sto...|Business Finance|\n",
            "|Investing And Tra...|Business Finance|\n",
            "|Trading Stock Cha...|Business Finance|\n",
            "|Options Trading 3...|Business Finance|\n",
            "|The Only Investme...|Business Finance|\n",
            "|Forex Trading Sec...|Business Finance|\n",
            "|Trading Options W...|Business Finance|\n",
            "|Financial Managem...|Business Finance|\n",
            "|Forex Trading Cou...|Business Finance|\n",
            "|Python Algo Tradi...|Business Finance|\n",
            "|Short Selling: Le...|Business Finance|\n",
            "|Basic Technical A...|Business Finance|\n",
            "|The Complete Char...|Business Finance|\n",
            "|7 Deadly Mistakes...|Business Finance|\n",
            "|Financial Stateme...|Business Finance|\n",
            "+--------------------+----------------+\n",
            "only showing top 20 rows\n",
            "\n"
          ]
        }
      ]
    },
    {
      "cell_type": "code",
      "source": [
        "df.groupBy(\"subject\").count().show()"
      ],
      "metadata": {
        "colab": {
          "base_uri": "https://localhost:8080/"
        },
        "id": "iRrEYk3jaqDt",
        "outputId": "044d66f7-8fab-4d20-ffd0-1cc4ac88f903"
      },
      "execution_count": 87,
      "outputs": [
        {
          "output_type": "stream",
          "name": "stdout",
          "text": [
            "+--------------------+-----+\n",
            "|             subject|count|\n",
            "+--------------------+-----+\n",
            "|play Electric Gui...|    1|\n",
            "|Multiply returns ...|    1|\n",
            "|                null|    6|\n",
            "|    Business Finance| 1198|\n",
            "|Introduction Guit...|    1|\n",
            "|Learn Play Fernan...|    1|\n",
            "|      Graphic Design|  603|\n",
            "|Aprende tocar el ...|    1|\n",
            "|     Web Development| 1200|\n",
            "|Learn Classical G...|    1|\n",
            "| Musical Instruments|  676|\n",
            "+--------------------+-----+\n",
            "\n"
          ]
        }
      ]
    },
    {
      "cell_type": "code",
      "source": [
        "df.toPandas()['subject'].isnull().sum()"
      ],
      "metadata": {
        "colab": {
          "base_uri": "https://localhost:8080/"
        },
        "id": "rEvYix9Tayf1",
        "outputId": "f4088612-c6a7-4813-b601-58f963a12edb"
      },
      "execution_count": 88,
      "outputs": [
        {
          "output_type": "execute_result",
          "data": {
            "text/plain": [
              "6"
            ]
          },
          "metadata": {},
          "execution_count": 88
        }
      ]
    },
    {
      "cell_type": "code",
      "source": [
        "df = df.dropna(subset = (\"subject\"))"
      ],
      "metadata": {
        "id": "CTgorfxibMDl"
      },
      "execution_count": 89,
      "outputs": []
    },
    {
      "cell_type": "markdown",
      "source": [
        "Feature Extraction"
      ],
      "metadata": {
        "id": "oDWBnI7bbc9F"
      }
    },
    {
      "cell_type": "code",
      "source": [
        "from pyspark.ml.feature import Tokenizer,StopWordsRemover,CountVectorizer,IDF\n",
        "from pyspark.ml.feature import StringIndexer"
      ],
      "metadata": {
        "id": "e2L5TMuBban-"
      },
      "execution_count": 90,
      "outputs": []
    },
    {
      "cell_type": "code",
      "source": [
        "tokenizer = Tokenizer(inputCol = \"course_title\", outputCol = \"course_tokens\")\n",
        "stopwords_remover = StopWordsRemover(inputCol='course_tokens',outputCol='removed_tokens')\n",
        "vectorizer = CountVectorizer(inputCol='removed_tokens',outputCol='count_features')\n",
        "idf = IDF(inputCol='count_features',outputCol='vectorized_features')"
      ],
      "metadata": {
        "id": "nVL_EvBobml9"
      },
      "execution_count": 91,
      "outputs": []
    },
    {
      "cell_type": "code",
      "source": [
        "labelEncoder = StringIndexer(inputCol='subject',outputCol='label').fit(df)"
      ],
      "metadata": {
        "id": "Is_FAyarcz5u"
      },
      "execution_count": 92,
      "outputs": []
    },
    {
      "cell_type": "code",
      "source": [
        "label_dict = {'Web Development':0.0,\n",
        " 'Business Finance':1.0,\n",
        " 'Musical Instruments':2.0,\n",
        " 'Graphic Design':3.0}"
      ],
      "metadata": {
        "id": "8EBEXbx_hSR2"
      },
      "execution_count": 93,
      "outputs": []
    },
    {
      "cell_type": "code",
      "source": [
        "labelEncoder.transform(df).show(5)\n"
      ],
      "metadata": {
        "colab": {
          "base_uri": "https://localhost:8080/"
        },
        "id": "3ocv2jiNg_hX",
        "outputId": "e4cbf8ad-6cf6-4eff-e43e-559fa28c3984"
      },
      "execution_count": 94,
      "outputs": [
        {
          "output_type": "stream",
          "name": "stdout",
          "text": [
            "+--------------------+----------------+-----+\n",
            "|        course_title|         subject|label|\n",
            "+--------------------+----------------+-----+\n",
            "|Ultimate Investme...|Business Finance|  1.0|\n",
            "|Complete GST Cour...|Business Finance|  1.0|\n",
            "|Financial Modelin...|Business Finance|  1.0|\n",
            "|Beginner to Pro -...|Business Finance|  1.0|\n",
            "|How To Maximize Y...|Business Finance|  1.0|\n",
            "+--------------------+----------------+-----+\n",
            "only showing top 5 rows\n",
            "\n"
          ]
        }
      ]
    },
    {
      "cell_type": "code",
      "source": [
        "df = labelEncoder.transform(df)"
      ],
      "metadata": {
        "id": "N2KLLjECjbw_"
      },
      "execution_count": 95,
      "outputs": []
    },
    {
      "cell_type": "code",
      "source": [
        "train,test = df.randomSplit((0.7,0.3),seed=36)"
      ],
      "metadata": {
        "id": "gAFDluejiQrP"
      },
      "execution_count": 96,
      "outputs": []
    },
    {
      "cell_type": "code",
      "source": [
        "from pyspark.ml.classification import LogisticRegression\n",
        "logreg = LogisticRegression(featuresCol='vectorized_features',labelCol='label')"
      ],
      "metadata": {
        "id": "xGIVmrXFik8H"
      },
      "execution_count": 97,
      "outputs": []
    },
    {
      "cell_type": "markdown",
      "source": [
        "Lets build pipeline"
      ],
      "metadata": {
        "id": "SP8TrzfAi2w_"
      }
    },
    {
      "cell_type": "code",
      "source": [
        "from pyspark.ml import Pipeline\n",
        "pipeline = Pipeline(stages=[tokenizer,stopwords_remover,vectorizer,idf, logreg])"
      ],
      "metadata": {
        "id": "ZQNAhrnaiv7_"
      },
      "execution_count": 98,
      "outputs": []
    },
    {
      "cell_type": "code",
      "source": [
        "model = pipeline.fit(train)"
      ],
      "metadata": {
        "id": "5ovsmQvRjElH"
      },
      "execution_count": 99,
      "outputs": []
    },
    {
      "cell_type": "code",
      "source": [
        "predictions = model.transform(test)"
      ],
      "metadata": {
        "id": "2gwNbB_zjR0f"
      },
      "execution_count": 102,
      "outputs": []
    },
    {
      "cell_type": "code",
      "source": [
        "predictions.columns"
      ],
      "metadata": {
        "colab": {
          "base_uri": "https://localhost:8080/"
        },
        "id": "O6mhkAC5j4SI",
        "outputId": "392a7258-a8b3-47da-c9a6-f6df94d3ef76"
      },
      "execution_count": 103,
      "outputs": [
        {
          "output_type": "execute_result",
          "data": {
            "text/plain": [
              "['course_title',\n",
              " 'subject',\n",
              " 'label',\n",
              " 'course_tokens',\n",
              " 'removed_tokens',\n",
              " 'count_features',\n",
              " 'vectorized_features',\n",
              " 'rawPrediction',\n",
              " 'probability',\n",
              " 'prediction']"
            ]
          },
          "metadata": {},
          "execution_count": 103
        }
      ]
    },
    {
      "cell_type": "code",
      "source": [
        "predictions.select('rawPrediction','probability','subject','label','prediction').show(10)"
      ],
      "metadata": {
        "colab": {
          "base_uri": "https://localhost:8080/"
        },
        "id": "Gf1ONuRVkCTX",
        "outputId": "7aa40fb9-ed74-4d0e-e36e-fbf77c74ece2"
      },
      "execution_count": 104,
      "outputs": [
        {
          "output_type": "stream",
          "name": "stdout",
          "text": [
            "+--------------------+--------------------+-------------------+-----+----------+\n",
            "|       rawPrediction|         probability|            subject|label|prediction|\n",
            "+--------------------+--------------------+-------------------+-----+----------+\n",
            "|[-9.3258336335251...|[1.14287965839483...|Musical Instruments|  2.0|       2.0|\n",
            "|[-10.486766865887...|[4.77381253460093...|Musical Instruments|  2.0|       2.0|\n",
            "|[-0.5938203645487...|[2.29480525645599...|   Business Finance|  1.0|       1.0|\n",
            "|[-7.2137634002143...|[1.76553600884570...|Musical Instruments|  2.0|       1.0|\n",
            "|[-12.614757376412...|[7.23675199517615...|Musical Instruments|  2.0|       2.0|\n",
            "|[32.0854736051830...|[0.99999999999999...|    Web Development|  0.0|       0.0|\n",
            "|[-0.0323419718631...|[1.38129177988177...|   Business Finance|  1.0|       1.0|\n",
            "|[-7.3974249564886...|[2.45828508847594...|   Business Finance|  1.0|       1.0|\n",
            "|[7.74873830431251...|[0.88418654797933...|     Graphic Design|  3.0|       0.0|\n",
            "|[8.64465012986057...|[1.55797936731748...|   Business Finance|  1.0|       1.0|\n",
            "+--------------------+--------------------+-------------------+-----+----------+\n",
            "only showing top 10 rows\n",
            "\n"
          ]
        }
      ]
    },
    {
      "cell_type": "markdown",
      "source": [
        "Evaluation"
      ],
      "metadata": {
        "id": "LgaUq3f7kJRQ"
      }
    },
    {
      "cell_type": "code",
      "source": [
        "from pyspark.ml.evaluation import MulticlassClassificationEvaluator\n",
        "evaluator = MulticlassClassificationEvaluator(labelCol='label',predictionCol='prediction',metricName='accuracy')\n",
        "accuracy = evaluator.evaluate(predictions)\n",
        "accuracy"
      ],
      "metadata": {
        "colab": {
          "base_uri": "https://localhost:8080/"
        },
        "id": "b5cEd4cbkGHP",
        "outputId": "f7eecd99-96ec-4178-8e00-be65e86b015c"
      },
      "execution_count": 105,
      "outputs": [
        {
          "output_type": "execute_result",
          "data": {
            "text/plain": [
              "0.9387568555758684"
            ]
          },
          "metadata": {},
          "execution_count": 105
        }
      ]
    },
    {
      "cell_type": "code",
      "source": [
        "from pyspark.mllib.evaluation import MulticlassMetrics\n",
        "model_metric= MulticlassMetrics(predictions['label','prediction'].rdd)"
      ],
      "metadata": {
        "colab": {
          "base_uri": "https://localhost:8080/"
        },
        "id": "boFVT5RSkVXL",
        "outputId": "03213637-b245-4b32-b7f6-29838d50eec6"
      },
      "execution_count": 106,
      "outputs": [
        {
          "output_type": "stream",
          "name": "stderr",
          "text": [
            "/usr/local/lib/python3.10/dist-packages/pyspark/sql/context.py:157: FutureWarning: Deprecated in 3.0.0. Use SparkSession.builder.getOrCreate() instead.\n",
            "  warnings.warn(\n"
          ]
        }
      ]
    },
    {
      "cell_type": "code",
      "source": [
        "print(\"Accuracy:\",model_metric.accuracy)\n",
        "print(\"Precision:\",model_metric.precision(1.0))\n",
        "print(\"Recall:\",model_metric.recall(1.0))\n",
        "print(\"F1Score:\",model_metric.fMeasure(1.0))"
      ],
      "metadata": {
        "colab": {
          "base_uri": "https://localhost:8080/"
        },
        "id": "JSncRpWkkd0P",
        "outputId": "5316774d-1390-46ef-94b3-c3b3f1d8a7df"
      },
      "execution_count": 107,
      "outputs": [
        {
          "output_type": "stream",
          "name": "stdout",
          "text": [
            "Accuracy: 0.9387568555758684\n",
            "Precision: 0.9811827956989247\n",
            "Recall: 0.8924205378973105\n",
            "F1Score: 0.9346991037131882\n"
          ]
        }
      ]
    }
  ]
}