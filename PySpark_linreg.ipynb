{
  "nbformat": 4,
  "nbformat_minor": 0,
  "metadata": {
    "colab": {
      "provenance": []
    },
    "kernelspec": {
      "name": "python3",
      "display_name": "Python 3"
    },
    "language_info": {
      "name": "python"
    }
  },
  "cells": [
    {
      "cell_type": "markdown",
      "source": [
        "# This is simple regression in Pyspark"
      ],
      "metadata": {
        "id": "nZ-AKsd42zR3"
      }
    },
    {
      "cell_type": "code",
      "execution_count": null,
      "metadata": {
        "colab": {
          "base_uri": "https://localhost:8080/"
        },
        "id": "wzdsycSBt33Q",
        "outputId": "34a60bde-5ba4-493b-adb5-7be151ef255a"
      },
      "outputs": [
        {
          "output_type": "stream",
          "name": "stdout",
          "text": [
            "Looking in indexes: https://pypi.org/simple, https://us-python.pkg.dev/colab-wheels/public/simple/\n",
            "Collecting pyspark\n",
            "  Downloading pyspark-3.4.0.tar.gz (310.8 MB)\n",
            "\u001b[2K     \u001b[90m━━━━━━━━━━━━━━━━━━━━━━━━━━━━━━━━━━━━━━━\u001b[0m \u001b[32m310.8/310.8 MB\u001b[0m \u001b[31m4.2 MB/s\u001b[0m eta \u001b[36m0:00:00\u001b[0m\n",
            "\u001b[?25h  Preparing metadata (setup.py) ... \u001b[?25l\u001b[?25hdone\n",
            "Requirement already satisfied: py4j==0.10.9.7 in /usr/local/lib/python3.10/dist-packages (from pyspark) (0.10.9.7)\n",
            "Building wheels for collected packages: pyspark\n",
            "  Building wheel for pyspark (setup.py) ... \u001b[?25l\u001b[?25hdone\n",
            "  Created wheel for pyspark: filename=pyspark-3.4.0-py2.py3-none-any.whl size=311317130 sha256=70fe92c508df8eec41a87855320ffe24b28e103300bc3fa3b9fc85c2d2e29141\n",
            "  Stored in directory: /root/.cache/pip/wheels/7b/1b/4b/3363a1d04368e7ff0d408e57ff57966fcdf00583774e761327\n",
            "Successfully built pyspark\n",
            "Installing collected packages: pyspark\n",
            "Successfully installed pyspark-3.4.0\n"
          ]
        }
      ],
      "source": [
        "!pip install pyspark"
      ]
    },
    {
      "cell_type": "code",
      "source": [
        "import pyspark"
      ],
      "metadata": {
        "id": "lbqZI6X8yW9f"
      },
      "execution_count": null,
      "outputs": []
    },
    {
      "cell_type": "code",
      "source": [
        "from pyspark.sql import SparkSession\n",
        "import pyspark.sql.functions as F\n",
        "import pyspark.sql.types as T\n",
        "spark = SparkSession.builder.getOrCreate()\n"
      ],
      "metadata": {
        "id": "VOs3qkLpyZpf"
      },
      "execution_count": null,
      "outputs": []
    },
    {
      "cell_type": "code",
      "source": [
        "df = spark.read.format(\"csv\").load(\"/content/sample_data/california_housing_train.csv\", header=True, inferSchema=True)\n",
        "\n",
        "df.printSchema()"
      ],
      "metadata": {
        "id": "SNNEdKDEy8og",
        "colab": {
          "base_uri": "https://localhost:8080/"
        },
        "outputId": "f03c59ef-ea09-436a-c547-26871b84e0a7"
      },
      "execution_count": 5,
      "outputs": [
        {
          "output_type": "stream",
          "name": "stdout",
          "text": [
            "root\n",
            " |-- longitude: double (nullable = true)\n",
            " |-- latitude: double (nullable = true)\n",
            " |-- housing_median_age: double (nullable = true)\n",
            " |-- total_rooms: double (nullable = true)\n",
            " |-- total_bedrooms: double (nullable = true)\n",
            " |-- population: double (nullable = true)\n",
            " |-- households: double (nullable = true)\n",
            " |-- median_income: double (nullable = true)\n",
            " |-- median_house_value: double (nullable = true)\n",
            "\n"
          ]
        }
      ]
    },
    {
      "cell_type": "code",
      "source": [
        "df.show()"
      ],
      "metadata": {
        "colab": {
          "base_uri": "https://localhost:8080/"
        },
        "id": "72c_fHHn2lkc",
        "outputId": "35cb90b2-4016-46b7-d0f6-1115bc3603c0"
      },
      "execution_count": 6,
      "outputs": [
        {
          "output_type": "stream",
          "name": "stdout",
          "text": [
            "+---------+--------+------------------+-----------+--------------+----------+----------+-------------+------------------+\n",
            "|longitude|latitude|housing_median_age|total_rooms|total_bedrooms|population|households|median_income|median_house_value|\n",
            "+---------+--------+------------------+-----------+--------------+----------+----------+-------------+------------------+\n",
            "|  -114.31|   34.19|              15.0|     5612.0|        1283.0|    1015.0|     472.0|       1.4936|           66900.0|\n",
            "|  -114.47|    34.4|              19.0|     7650.0|        1901.0|    1129.0|     463.0|         1.82|           80100.0|\n",
            "|  -114.56|   33.69|              17.0|      720.0|         174.0|     333.0|     117.0|       1.6509|           85700.0|\n",
            "|  -114.57|   33.64|              14.0|     1501.0|         337.0|     515.0|     226.0|       3.1917|           73400.0|\n",
            "|  -114.57|   33.57|              20.0|     1454.0|         326.0|     624.0|     262.0|        1.925|           65500.0|\n",
            "|  -114.58|   33.63|              29.0|     1387.0|         236.0|     671.0|     239.0|       3.3438|           74000.0|\n",
            "|  -114.58|   33.61|              25.0|     2907.0|         680.0|    1841.0|     633.0|       2.6768|           82400.0|\n",
            "|  -114.59|   34.83|              41.0|      812.0|         168.0|     375.0|     158.0|       1.7083|           48500.0|\n",
            "|  -114.59|   33.61|              34.0|     4789.0|        1175.0|    3134.0|    1056.0|       2.1782|           58400.0|\n",
            "|   -114.6|   34.83|              46.0|     1497.0|         309.0|     787.0|     271.0|       2.1908|           48100.0|\n",
            "|   -114.6|   33.62|              16.0|     3741.0|         801.0|    2434.0|     824.0|       2.6797|           86500.0|\n",
            "|   -114.6|    33.6|              21.0|     1988.0|         483.0|    1182.0|     437.0|        1.625|           62000.0|\n",
            "|  -114.61|   34.84|              48.0|     1291.0|         248.0|     580.0|     211.0|       2.1571|           48600.0|\n",
            "|  -114.61|   34.83|              31.0|     2478.0|         464.0|    1346.0|     479.0|        3.212|           70400.0|\n",
            "|  -114.63|   32.76|              15.0|     1448.0|         378.0|     949.0|     300.0|       0.8585|           45000.0|\n",
            "|  -114.65|   34.89|              17.0|     2556.0|         587.0|    1005.0|     401.0|       1.6991|           69100.0|\n",
            "|  -114.65|    33.6|              28.0|     1678.0|         322.0|     666.0|     256.0|       2.9653|           94900.0|\n",
            "|  -114.65|   32.79|              21.0|       44.0|          33.0|      64.0|      27.0|       0.8571|           25000.0|\n",
            "|  -114.66|   32.74|              17.0|     1388.0|         386.0|     775.0|     320.0|       1.2049|           44000.0|\n",
            "|  -114.67|   33.92|              17.0|       97.0|          24.0|      29.0|      15.0|       1.2656|           27500.0|\n",
            "+---------+--------+------------------+-----------+--------------+----------+----------+-------------+------------------+\n",
            "only showing top 20 rows\n",
            "\n"
          ]
        }
      ]
    },
    {
      "cell_type": "code",
      "source": [
        "train, test = df.randomSplit([0.7,0.3],seed = 4)"
      ],
      "metadata": {
        "id": "vfskPBLF3C3m"
      },
      "execution_count": 7,
      "outputs": []
    },
    {
      "cell_type": "code",
      "source": [
        "features = [x for (x,datatype) in df.dtypes if x != \"median_house_value\"]\n",
        "features"
      ],
      "metadata": {
        "colab": {
          "base_uri": "https://localhost:8080/"
        },
        "id": "K3bGayAR59xo",
        "outputId": "8eae4bdd-c2e4-4574-9e19-309651fd6c61"
      },
      "execution_count": 32,
      "outputs": [
        {
          "output_type": "execute_result",
          "data": {
            "text/plain": [
              "['longitude',\n",
              " 'latitude',\n",
              " 'housing_median_age',\n",
              " 'total_rooms',\n",
              " 'total_bedrooms',\n",
              " 'population',\n",
              " 'households',\n",
              " 'median_income']"
            ]
          },
          "metadata": {},
          "execution_count": 32
        }
      ]
    },
    {
      "cell_type": "markdown",
      "source": [
        "Vector assembling"
      ],
      "metadata": {
        "id": "bVogs_Af9bdf"
      }
    },
    {
      "cell_type": "code",
      "source": [
        "from pyspark.ml.feature import VectorAssembler\n"
      ],
      "metadata": {
        "id": "Vf4a81xy9abQ"
      },
      "execution_count": 33,
      "outputs": []
    },
    {
      "cell_type": "code",
      "source": [
        "assemblerInput = [x for x in features]\n",
        "vector_assembler = VectorAssembler(inputCols = assemblerInput, outputCol = \"VectorAssembler_features\")"
      ],
      "metadata": {
        "id": "7AOrZrQU9m23"
      },
      "execution_count": 34,
      "outputs": []
    },
    {
      "cell_type": "code",
      "source": [
        "from pyspark.ml import Pipeline\n",
        "#pipeline = Pipeline().setStages([vector_assembler])\n",
        "#model = pipeline.fit()\n",
        "model = vector_assembler.transform(df)"
      ],
      "metadata": {
        "id": "L5fKKEF__PFR"
      },
      "execution_count": 38,
      "outputs": []
    },
    {
      "cell_type": "markdown",
      "source": [
        "linear regression "
      ],
      "metadata": {
        "id": "IajNyZtPA0aX"
      }
    },
    {
      "cell_type": "code",
      "source": [
        "from pyspark.ml.regression import LinearRegression\n",
        "data = model.select(\n",
        "    F.col(\"VectorAssembler_features\").alias('features'),\n",
        "    F.col(\"median_house_value\").alias(\"label\"),\n",
        ")"
      ],
      "metadata": {
        "id": "04ICVHNA_9RA"
      },
      "execution_count": 39,
      "outputs": []
    },
    {
      "cell_type": "code",
      "source": [
        "train, test = data.randomSplit([0.7,0.3],seed = 4)"
      ],
      "metadata": {
        "id": "Cqf3_s_6D8uZ"
      },
      "execution_count": 44,
      "outputs": []
    },
    {
      "cell_type": "code",
      "source": [
        "data.show(truncate = False)"
      ],
      "metadata": {
        "colab": {
          "base_uri": "https://localhost:8080/"
        },
        "id": "Y1oOQo9mBrLp",
        "outputId": "c9439246-c61e-4f02-ac5d-4f5ec278ad71"
      },
      "execution_count": 45,
      "outputs": [
        {
          "output_type": "stream",
          "name": "stdout",
          "text": [
            "+-------------------------------------------------------+-------+\n",
            "|features                                               |label  |\n",
            "+-------------------------------------------------------+-------+\n",
            "|[-114.31,34.19,15.0,5612.0,1283.0,1015.0,472.0,1.4936] |66900.0|\n",
            "|[-114.47,34.4,19.0,7650.0,1901.0,1129.0,463.0,1.82]    |80100.0|\n",
            "|[-114.56,33.69,17.0,720.0,174.0,333.0,117.0,1.6509]    |85700.0|\n",
            "|[-114.57,33.64,14.0,1501.0,337.0,515.0,226.0,3.1917]   |73400.0|\n",
            "|[-114.57,33.57,20.0,1454.0,326.0,624.0,262.0,1.925]    |65500.0|\n",
            "|[-114.58,33.63,29.0,1387.0,236.0,671.0,239.0,3.3438]   |74000.0|\n",
            "|[-114.58,33.61,25.0,2907.0,680.0,1841.0,633.0,2.6768]  |82400.0|\n",
            "|[-114.59,34.83,41.0,812.0,168.0,375.0,158.0,1.7083]    |48500.0|\n",
            "|[-114.59,33.61,34.0,4789.0,1175.0,3134.0,1056.0,2.1782]|58400.0|\n",
            "|[-114.6,34.83,46.0,1497.0,309.0,787.0,271.0,2.1908]    |48100.0|\n",
            "|[-114.6,33.62,16.0,3741.0,801.0,2434.0,824.0,2.6797]   |86500.0|\n",
            "|[-114.6,33.6,21.0,1988.0,483.0,1182.0,437.0,1.625]     |62000.0|\n",
            "|[-114.61,34.84,48.0,1291.0,248.0,580.0,211.0,2.1571]   |48600.0|\n",
            "|[-114.61,34.83,31.0,2478.0,464.0,1346.0,479.0,3.212]   |70400.0|\n",
            "|[-114.63,32.76,15.0,1448.0,378.0,949.0,300.0,0.8585]   |45000.0|\n",
            "|[-114.65,34.89,17.0,2556.0,587.0,1005.0,401.0,1.6991]  |69100.0|\n",
            "|[-114.65,33.6,28.0,1678.0,322.0,666.0,256.0,2.9653]    |94900.0|\n",
            "|[-114.65,32.79,21.0,44.0,33.0,64.0,27.0,0.8571]        |25000.0|\n",
            "|[-114.66,32.74,17.0,1388.0,386.0,775.0,320.0,1.2049]   |44000.0|\n",
            "|[-114.67,33.92,17.0,97.0,24.0,29.0,15.0,1.2656]        |27500.0|\n",
            "+-------------------------------------------------------+-------+\n",
            "only showing top 20 rows\n",
            "\n"
          ]
        }
      ]
    },
    {
      "cell_type": "code",
      "source": [
        "model = LinearRegression().fit(train)"
      ],
      "metadata": {
        "id": "KcdpuWJTB0x3"
      },
      "execution_count": 46,
      "outputs": []
    },
    {
      "cell_type": "code",
      "source": [
        "pred = model.evaluate(test)\n",
        "from pyspark.ml.evaluation import RegressionEvaluator\n",
        "eval = RegressionEvaluator(labelCol=\"label\", predictionCol=\"prediction\", metricName=\"rmse\")\n",
        "\n",
        "# Root Mean Square Error\n",
        "rmse = eval.evaluate(pred.predictions)\n",
        "print(\"RMSE: %.3f\" % rmse)\n",
        "\n",
        "# Mean Square Error\n",
        "mse = eval.evaluate(pred.predictions, {eval.metricName: \"mse\"})\n",
        "print(\"MSE: %.3f\" % mse)\n",
        "\n",
        "# Mean Absolute Error\n",
        "mae = eval.evaluate(pred.predictions, {eval.metricName: \"mae\"})\n",
        "print(\"MAE: %.3f\" % mae)\n",
        "\n",
        "# r2 - coefficient of determination\n",
        "r2 = eval.evaluate(pred.predictions, {eval.metricName: \"r2\"})\n",
        "print(\"r2: %.3f\" %r2)"
      ],
      "metadata": {
        "colab": {
          "base_uri": "https://localhost:8080/"
        },
        "id": "ef4TO0LdB9Mn",
        "outputId": "94b70051-ef68-413c-f139-1dcf2ab14c4e"
      },
      "execution_count": 48,
      "outputs": [
        {
          "output_type": "stream",
          "name": "stdout",
          "text": [
            "RMSE: 70334.427\n",
            "MSE: 4946931660.000\n",
            "MAE: 51693.045\n",
            "r2: 0.633\n"
          ]
        }
      ]
    }
  ]
}